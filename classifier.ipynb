{
 "cells": [
  {
   "cell_type": "code",
   "execution_count": 10,
   "metadata": {},
   "outputs": [],
   "source": [
    "# !pip install flashrank\n",
    "# !pip install chromadb\n",
    "# !pip install openai langchain\n",
    "# !pip install tiktoken"
   ]
  },
  {
   "cell_type": "code",
   "execution_count": 11,
   "metadata": {},
   "outputs": [],
   "source": [
    "def check_ver(list):\n",
    "    for i in range(len(list)):\n",
    "        out = f\"{list[i]} version : {list[i].__version__}\"\n",
    "        print(out)"
   ]
  },
  {
   "cell_type": "code",
   "execution_count": 12,
   "metadata": {},
   "outputs": [
    {
     "name": "stdout",
     "output_type": "stream",
     "text": [
      "<module 'pandas' from '/Users/hikarii/anaconda3/lib/python3.10/site-packages/pandas/__init__.py'> version : 2.0.3\n",
      "<module 'chromadb' from '/Users/hikarii/anaconda3/lib/python3.10/site-packages/chromadb/__init__.py'> version : 0.4.21\n",
      "<module 'langchain' from '/Users/hikarii/anaconda3/lib/python3.10/site-packages/langchain/__init__.py'> version : 0.0.333\n"
     ]
    }
   ],
   "source": [
    "import pandas as pd\n",
    "\n",
    "import flashrank\n",
    "from flashrank import Ranker, RerankRequest\n",
    "\n",
    "import chromadb\n",
    "from chromadb.utils import embedding_functions\n",
    "\n",
    "import langchain\n",
    "from langchain.vectorstores import Chroma\n",
    "from langchain.embeddings import OpenAIEmbeddings\n",
    "\n",
    "check_ver([pd,chromadb,langchain])"
   ]
  },
  {
   "cell_type": "code",
   "execution_count": 13,
   "metadata": {},
   "outputs": [],
   "source": [
    "import os\n",
    "from dotenv import load_dotenv, find_dotenv\n",
    "\n",
    "load_dotenv(find_dotenv()) # read local .env file\n",
    "\n",
    "openai_api_key = os.getenv('OPENAI_API_KEY_H')"
   ]
  },
  {
   "cell_type": "markdown",
   "metadata": {},
   "source": [
    "# FlashRank"
   ]
  },
  {
   "cell_type": "code",
   "execution_count": 14,
   "metadata": {},
   "outputs": [],
   "source": [
    "ranker = Ranker(model_name=\"ms-marco-MultiBERT-L-12\")"
   ]
  },
  {
   "cell_type": "code",
   "execution_count": 15,
   "metadata": {},
   "outputs": [
    {
     "name": "stdout",
     "output_type": "stream",
     "text": [
      "{'id': 4, 'text': 'Ever want to make your LLM inference go brrrrr but got stuck at implementing speculative decoding and finding the suitable draft model? No more pain! Thrilled to unveil Medusa, a simple framework that removes the annoying draft model while getting 2x speedup.', 'meta': {'additional': 'info4'}, 'score': 0.9572788}\n",
      "{'id': 3, 'text': \"There are many ways to increase LLM inference throughput (tokens/second) and decrease memory footprint, sometimes at the same time. Here are a few methods I’ve found effective when working with Llama 2. These methods are all well-integrated with Hugging Face. This list is far from exhaustive; some of these techniques can be used in combination with each other and there are plenty of others to try. - Bettertransformer (Optimum Library): Simply call `model.to_bettertransformer()` on your Hugging Face model for a modest improvement in tokens per second. - Fp4 Mixed-Precision (Bitsandbytes): Requires minimal configuration and dramatically reduces the model's memory footprint. - AutoGPTQ: Time-consuming but leads to a much smaller model and faster inference. The quantization is a one-time cost that pays off in the long run.\", 'meta': {'additional': 'info3'}, 'score': 0.9561758}\n",
      "{'id': 5, 'text': 'vLLM is a fast and easy-to-use library for LLM inference and serving. vLLM is fast with: State-of-the-art serving throughput Efficient management of attention key and value memory with PagedAttention Continuous batching of incoming requests Optimized CUDA kernels', 'meta': {'additional': 'info5'}, 'score': 0.93323505}\n",
      "{'id': 2, 'text': 'LLM inference efficiency will be one of the most crucial topics for both industry and academia, simply because the more efficient you are, the more $$$ you will save. vllm project is a must-read for this direction, and now they have just released the paper', 'meta': {'additional': 'info2'}, 'score': 0.88798964}\n",
      "{'id': 1, 'text': 'Introduce *lookahead decoding*: - a parallel decoding algo to accelerate LLM inference - w/o the need for a draft model or a data store - linearly decreases # decoding steps relative to log(FLOPs) used per decoding step.', 'meta': {'additional': 'info1'}, 'score': 0.18936695}\n"
     ]
    }
   ],
   "source": [
    "# Metadata is optional, Id can be your DB ids from your retrieval stage or simple numeric indices.\n",
    "query = \"How to speedup LLMs?\"\n",
    "passages = [\n",
    "   {\n",
    "      \"id\":1,\n",
    "      \"text\":\"Introduce *lookahead decoding*: - a parallel decoding algo to accelerate LLM inference - w/o the need for a draft model or a data store - linearly decreases # decoding steps relative to log(FLOPs) used per decoding step.\",\n",
    "      \"meta\": {\"additional\": \"info1\"}\n",
    "   },\n",
    "   {\n",
    "      \"id\":2,\n",
    "      \"text\":\"LLM inference efficiency will be one of the most crucial topics for both industry and academia, simply because the more efficient you are, the more $$$ you will save. vllm project is a must-read for this direction, and now they have just released the paper\",\n",
    "      \"meta\": {\"additional\": \"info2\"}\n",
    "   },\n",
    "   {\n",
    "      \"id\":3,\n",
    "      \"text\":\"There are many ways to increase LLM inference throughput (tokens/second) and decrease memory footprint, sometimes at the same time. Here are a few methods I’ve found effective when working with Llama 2. These methods are all well-integrated with Hugging Face. This list is far from exhaustive; some of these techniques can be used in combination with each other and there are plenty of others to try. - Bettertransformer (Optimum Library): Simply call `model.to_bettertransformer()` on your Hugging Face model for a modest improvement in tokens per second. - Fp4 Mixed-Precision (Bitsandbytes): Requires minimal configuration and dramatically reduces the model's memory footprint. - AutoGPTQ: Time-consuming but leads to a much smaller model and faster inference. The quantization is a one-time cost that pays off in the long run.\",\n",
    "      \"meta\": {\"additional\": \"info3\"}\n",
    "\n",
    "   },\n",
    "   {\n",
    "      \"id\":4,\n",
    "      \"text\":\"Ever want to make your LLM inference go brrrrr but got stuck at implementing speculative decoding and finding the suitable draft model? No more pain! Thrilled to unveil Medusa, a simple framework that removes the annoying draft model while getting 2x speedup.\",\n",
    "      \"meta\": {\"additional\": \"info4\"}\n",
    "   },\n",
    "   {\n",
    "      \"id\":5,\n",
    "      \"text\":\"vLLM is a fast and easy-to-use library for LLM inference and serving. vLLM is fast with: State-of-the-art serving throughput Efficient management of attention key and value memory with PagedAttention Continuous batching of incoming requests Optimized CUDA kernels\",\n",
    "      \"meta\": {\"additional\": \"info5\"}\n",
    "   }\n",
    "]\n",
    "\n",
    "rerankrequest = RerankRequest(query=query, passages=passages)\n",
    "results = ranker.rerank(rerankrequest)\n",
    "for i in results : print(i)"
   ]
  },
  {
   "cell_type": "markdown",
   "metadata": {},
   "source": [
    "## ChromaDB"
   ]
  },
  {
   "cell_type": "code",
   "execution_count": 42,
   "metadata": {},
   "outputs": [
    {
     "name": "stderr",
     "output_type": "stream",
     "text": [
      "huggingface/tokenizers: The current process just got forked, after parallelism has already been used. Disabling parallelism to avoid deadlocks...\n",
      "To disable this warning, you can either:\n",
      "\t- Avoid using `tokenizers` before the fork if possible\n",
      "\t- Explicitly set the environment variable TOKENIZERS_PARALLELISM=(true | false)\n"
     ]
    }
   ],
   "source": [
    "## clear existed database\n",
    "\n",
    "!rm -rf chromadb"
   ]
  },
  {
   "cell_type": "code",
   "execution_count": 17,
   "metadata": {},
   "outputs": [],
   "source": [
    "client = chromadb.PersistentClient(path=\"chromaDB/\")"
   ]
  },
  {
   "cell_type": "code",
   "execution_count": 18,
   "metadata": {},
   "outputs": [],
   "source": [
    "openai_ef = embedding_functions.OpenAIEmbeddingFunction(\n",
    "                api_key=openai_api_key,\n",
    "                model_name=\"text-embedding-ada-002\"\n",
    "            )"
   ]
  },
  {
   "cell_type": "code",
   "execution_count": 19,
   "metadata": {},
   "outputs": [],
   "source": [
    "collection = client.get_or_create_collection(name=\"mitsu\", embedding_function=openai_ef)"
   ]
  },
  {
   "cell_type": "markdown",
   "metadata": {},
   "source": [
    "### Text loading"
   ]
  },
  {
   "cell_type": "code",
   "execution_count": 20,
   "metadata": {},
   "outputs": [
    {
     "data": {
      "text/html": [
       "<div>\n",
       "<style scoped>\n",
       "    .dataframe tbody tr th:only-of-type {\n",
       "        vertical-align: middle;\n",
       "    }\n",
       "\n",
       "    .dataframe tbody tr th {\n",
       "        vertical-align: top;\n",
       "    }\n",
       "\n",
       "    .dataframe thead th {\n",
       "        text-align: right;\n",
       "    }\n",
       "</style>\n",
       "<table border=\"1\" class=\"dataframe\">\n",
       "  <thead>\n",
       "    <tr style=\"text-align: right;\">\n",
       "      <th></th>\n",
       "      <th>questions</th>\n",
       "      <th>answer</th>\n",
       "      <th>doc_page</th>\n",
       "      <th>doc_content</th>\n",
       "      <th>doc_source</th>\n",
       "      <th>label</th>\n",
       "    </tr>\n",
       "  </thead>\n",
       "  <tbody>\n",
       "    <tr>\n",
       "      <th>90</th>\n",
       "      <td>ต้องทำอย่างไรเมื่อความเร็วรถลดลงต่ำกว่าประมาณ ...</td>\n",
       "      <td>เมื่อความเร็วรถลดลงต่ำกว่าประมาณ 30 กม./ชม., ค...</td>\n",
       "      <td>127</td>\n",
       "      <td>แผงหน้าปัดและอุปกรณ์ควบคุม  5  \\nคันสวิตช์ไฟเล...</td>\n",
       "      <td>docs/Text_PDF_.pdf</td>\n",
       "      <td>['ลดลงตํ่ากว่า', 'E00536800021', 'งาน', 'โปรด'...</td>\n",
       "    </tr>\n",
       "    <tr>\n",
       "      <th>91</th>\n",
       "      <td>ระบบ FCM อาจไม่ทำงานในสภาวะใดบ้าง?</td>\n",
       "      <td>ระบบ FCM อาจไม่ทำงานในสภาวะดังต่อไปนี้:\\n- รถค...</td>\n",
       "      <td>213</td>\n",
       "      <td>○ ระบบ FCM อาจไม่ทํางานหากรถคันหน้ามีลักษณะแคบ...</td>\n",
       "      <td>docs/Text_PDF_.pdf</td>\n",
       "      <td>['งาน', 'อาจทํา', 'ระหว่างรถ', 'อาจตรวจ', 'จับ...</td>\n",
       "    </tr>\n",
       "    <tr>\n",
       "      <th>92</th>\n",
       "      <td>ตัวแสดงโหมดการขับเคลื่อน 4 ล้อแสดงสถานะการเปลี...</td>\n",
       "      <td>ตัวแสดงโหมดการขับเคลื่อน 4 ล้อจะสว่างตามตำแหน่...</td>\n",
       "      <td>180</td>\n",
       "      <td>ตัวแสดงโหมดการขับเคลื่อน  4 ล้อและตัวแสดงการทํ...</td>\n",
       "      <td>docs/Text_PDF_.pdf</td>\n",
       "      <td>['E00606001774', 'งาน', '2WD4WD', 'จะสว่าง', '...</td>\n",
       "    </tr>\n",
       "  </tbody>\n",
       "</table>\n",
       "</div>"
      ],
      "text/plain": [
       "                                            questions  \\\n",
       "90  ต้องทำอย่างไรเมื่อความเร็วรถลดลงต่ำกว่าประมาณ ...   \n",
       "91                 ระบบ FCM อาจไม่ทำงานในสภาวะใดบ้าง?   \n",
       "92  ตัวแสดงโหมดการขับเคลื่อน 4 ล้อแสดงสถานะการเปลี...   \n",
       "\n",
       "                                               answer  doc_page  \\\n",
       "90  เมื่อความเร็วรถลดลงต่ำกว่าประมาณ 30 กม./ชม., ค...       127   \n",
       "91  ระบบ FCM อาจไม่ทำงานในสภาวะดังต่อไปนี้:\\n- รถค...       213   \n",
       "92  ตัวแสดงโหมดการขับเคลื่อน 4 ล้อจะสว่างตามตำแหน่...       180   \n",
       "\n",
       "                                          doc_content          doc_source  \\\n",
       "90  แผงหน้าปัดและอุปกรณ์ควบคุม  5  \\nคันสวิตช์ไฟเล...  docs/Text_PDF_.pdf   \n",
       "91  ○ ระบบ FCM อาจไม่ทํางานหากรถคันหน้ามีลักษณะแคบ...  docs/Text_PDF_.pdf   \n",
       "92  ตัวแสดงโหมดการขับเคลื่อน  4 ล้อและตัวแสดงการทํ...  docs/Text_PDF_.pdf   \n",
       "\n",
       "                                                label  \n",
       "90  ['ลดลงตํ่ากว่า', 'E00536800021', 'งาน', 'โปรด'...  \n",
       "91  ['งาน', 'อาจทํา', 'ระหว่างรถ', 'อาจตรวจ', 'จับ...  \n",
       "92  ['E00606001774', 'งาน', '2WD4WD', 'จะสว่าง', '...  "
      ]
     },
     "execution_count": 20,
     "metadata": {},
     "output_type": "execute_result"
    }
   ],
   "source": [
    "df = pd.read_csv(\"rerank_dataset.csv\", index_col=0)\n",
    "\n",
    "df.tail(3)"
   ]
  },
  {
   "cell_type": "code",
   "execution_count": 21,
   "metadata": {},
   "outputs": [
    {
     "name": "stderr",
     "output_type": "stream",
     "text": [
      "huggingface/tokenizers: The current process just got forked, after parallelism has already been used. Disabling parallelism to avoid deadlocks...\n",
      "To disable this warning, you can either:\n",
      "\t- Avoid using `tokenizers` before the fork if possible\n",
      "\t- Explicitly set the environment variable TOKENIZERS_PARALLELISM=(true | false)\n"
     ]
    }
   ],
   "source": [
    "# prepare chunks to be added to collection\n",
    "\n",
    "doc = [df.doc_content[i] for i in range(len(df))]\n",
    "meta = [{\"label\":df.label[i]} for i in range(len(df))]\n",
    "idd = [\"id{a}\".format(a=i+1) for i in range(len(df))]\n",
    "\n",
    "doc_embed = openai_ef(doc)"
   ]
  },
  {
   "cell_type": "code",
   "execution_count": 22,
   "metadata": {},
   "outputs": [],
   "source": [
    "collection.add(\n",
    "    embeddings = doc_embed,\n",
    "    documents = doc,\n",
    "    metadatas = meta,\n",
    "    ids = idd\n",
    ")"
   ]
  },
  {
   "cell_type": "code",
   "execution_count": 23,
   "metadata": {},
   "outputs": [
    {
     "data": {
      "text/plain": [
       "[Collection(name=mitsu)]"
      ]
     },
     "execution_count": 23,
     "metadata": {},
     "output_type": "execute_result"
    }
   ],
   "source": [
    "client.list_collections() # list tables"
   ]
  },
  {
   "cell_type": "code",
   "execution_count": 24,
   "metadata": {},
   "outputs": [
    {
     "data": {
      "text/plain": [
       "93"
      ]
     },
     "execution_count": 24,
     "metadata": {},
     "output_type": "execute_result"
    }
   ],
   "source": [
    "collection.count()"
   ]
  },
  {
   "cell_type": "code",
   "execution_count": 25,
   "metadata": {},
   "outputs": [
    {
     "data": {
      "text/plain": [
       "{'ids': ['id1'],\n",
       " 'embeddings': None,\n",
       " 'metadatas': [{'label': \"['ดับเบิลแค็บ', 'งาน', 'ขับ', 'ขับการ', 'ซํ้า']\"}],\n",
       " 'documents': ['และดึงสวิตช์ขึ้นเพื่อปิดกุญแจอัจฉริยะ หมายเหตุ -  การเปิดปิดซํ้าๆ ขณะที่เครื่องยนต์ไม่ทํางานจะเป็นการสิ้นเปลืองแบตเตอรี่พยายามอย่าใช้สวิตช์กระจกยกเว้นในขณะที่เครื่องยนต์กําลังทํางาน -  กระจกหน้าต่างประตูหลังจะเปิดเพียงครึ่งเดียวเท่านั้น (ดับเบิลแค็บ) สวิตช์ล็อก เมื่อกดสวิตช์ล็อก (1) ไฟแสดง (2) จะสว่างขึ้น และสวิตช์ด้านผู้โดยสารจะไม่สามารถใช้เปิดหรือปิดกระจกหน้าต่างประตูได้ และสวิตช์ด้านคนขับจะไม่สามารถเปิดหรือปิดกระจกหน้าต่างประตูอื่นได้นอกจากกระจกหน้าต่างประตูด้านคนขับการปลดล็อก ให้กดสวิตช์ล็อกอีกครั้ง และไฟแสดงจะดับลงกุญแจอัจฉริยะ'],\n",
       " 'uris': None,\n",
       " 'data': None}"
      ]
     },
     "execution_count": 25,
     "metadata": {},
     "output_type": "execute_result"
    }
   ],
   "source": [
    "collection.get(ids=[\"id1\"],\n",
    "    where=None)"
   ]
  },
  {
   "cell_type": "markdown",
   "metadata": {},
   "source": [
    "### Query"
   ]
  },
  {
   "cell_type": "code",
   "execution_count": 26,
   "metadata": {},
   "outputs": [
    {
     "data": {
      "text/plain": [
       "{'ids': [['id1', 'id77']],\n",
       " 'distances': [[0.3037891551003212, 0.32300425397003935]],\n",
       " 'metadatas': [[{'label': \"['ดับเบิลแค็บ', 'งาน', 'ขับ', 'ขับการ', 'ซํ้า']\"},\n",
       "   {'label': \"['งาน', 'ขับ', 'ซํ้า', 'ขับได้', 'สวิตช์']\"}]],\n",
       " 'embeddings': None,\n",
       " 'documents': [['และดึงสวิตช์ขึ้นเพื่อปิดกุญแจอัจฉริยะ หมายเหตุ -  การเปิดปิดซํ้าๆ ขณะที่เครื่องยนต์ไม่ทํางานจะเป็นการสิ้นเปลืองแบตเตอรี่พยายามอย่าใช้สวิตช์กระจกยกเว้นในขณะที่เครื่องยนต์กําลังทํางาน -  กระจกหน้าต่างประตูหลังจะเปิดเพียงครึ่งเดียวเท่านั้น (ดับเบิลแค็บ) สวิตช์ล็อก เมื่อกดสวิตช์ล็อก (1) ไฟแสดง (2) จะสว่างขึ้น และสวิตช์ด้านผู้โดยสารจะไม่สามารถใช้เปิดหรือปิดกระจกหน้าต่างประตูได้ และสวิตช์ด้านคนขับจะไม่สามารถเปิดหรือปิดกระจกหน้าต่างประตูอื่นได้นอกจากกระจกหน้าต่างประตูด้านคนขับการปลดล็อก ให้กดสวิตช์ล็อกอีกครั้ง และไฟแสดงจะดับลงกุญแจอัจฉริยะ',\n",
       "   'ยู่ ให้ดึงสวิตช์กระจกหน้าต่างประตูด้านคนขับขึ้นซํ้าๆ  จนกระทั่งกระจกหน้าต่างปิดสนิท  หลังจากนั้นให้ปล่อยสวิตช์  \\nดึงสวิตช์ค้างไว้อีกครั้งหนึ่งอย่างน้อย  1 วินาทีแล้วปล่อยสวิตช์  คุณก็จะสามารถใช้งานกระจกหน้าต่างประตูด้านคนขับได้ตามปกติ']],\n",
       " 'uris': None,\n",
       " 'data': None}"
      ]
     },
     "execution_count": 26,
     "metadata": {},
     "output_type": "execute_result"
    }
   ],
   "source": [
    "## simple query\n",
    "\n",
    "results = collection.query(\n",
    "    query_texts=[\"สวิตช์ล็อกทำงานอย่างไร?\"],\n",
    "    n_results=2\n",
    ")\n",
    "\n",
    "results"
   ]
  },
  {
   "cell_type": "code",
   "execution_count": 27,
   "metadata": {},
   "outputs": [],
   "source": [
    "### Passing collection2 to langchain\n",
    "\n",
    "embeddings = OpenAIEmbeddings( api_key=openai_api_key )\n",
    "# vectordb = Chroma.from_documents(texts, embeddings)\n",
    "\n",
    "vectordb = Chroma(\n",
    "    client=client,\n",
    "    collection_name=\"mitsu\",\n",
    "    embedding_function=embeddings,\n",
    ")\n",
    "\n",
    "retriever = vectordb.as_retriever(search_type=\"similarity\", search_kwargs={\"k\": 15})"
   ]
  },
  {
   "cell_type": "code",
   "execution_count": 37,
   "metadata": {},
   "outputs": [
    {
     "name": "stdout",
     "output_type": "stream",
     "text": [
      "number of documents : 15      \n",
      "first document : เส้นคาดการณ์ แนวทางรถอาจแสดงไม่ถูกต้อง     • บนถนนที่ปกคลุมด้วยหิมะหรือลื่นอาจมีความแตกต่าง ระหว่างเส้นคาดการณ์แนวทางรถกับเส้นแนวทางรถจริง      \n",
      "metadata : {'label': \"['', 'ถนน', 'ปกคลุม', 'การณ์แนวทาง', 'แสดงไม่']\"}\n"
     ]
    }
   ],
   "source": [
    "# query = \"การเปิดปิดสวิตช์ซํ้าๆ ขณะที่เครื่องยนต์ไม่ทํางานจะเกิดอะไรขึ้น\"\n",
    "query = \"รถยางแตกควรทำยังไง\"\n",
    "\n",
    "retrieved_docs = retriever.invoke(\n",
    "    query\n",
    ")\n",
    "\n",
    "print(f\"number of documents : {len(retrieved_docs)}\\\n",
    "      \\nfirst document : {retrieved_docs[0].page_content}\\\n",
    "      \\nmetadata : {retrieved_docs[0].metadata}\")"
   ]
  },
  {
   "cell_type": "markdown",
   "metadata": {},
   "source": [
    "### convert datatype for FlashRank"
   ]
  },
  {
   "cell_type": "code",
   "execution_count": 38,
   "metadata": {},
   "outputs": [],
   "source": [
    "def convert_retrieved_doc(retrieved_docs):\n",
    "  passages = []\n",
    "  for i,con in enumerate(retrieved_docs):\n",
    "    for_rerank = {\n",
    "                      \"id\":i,\n",
    "                      \"text\":con.page_content,\n",
    "                      \"meta\": con.metadata\n",
    "                  }\n",
    "    passages.append(for_rerank)\n",
    "  return passages"
   ]
  },
  {
   "cell_type": "code",
   "execution_count": 39,
   "metadata": {},
   "outputs": [
    {
     "name": "stdout",
     "output_type": "stream",
     "text": [
      "รถยางแตกควรทำยังไง\n"
     ]
    }
   ],
   "source": [
    "passages = convert_retrieved_doc(retrieved_docs)\n",
    "\n",
    "print(query)"
   ]
  },
  {
   "cell_type": "markdown",
   "metadata": {},
   "source": [
    "Re-ranking results"
   ]
  },
  {
   "cell_type": "code",
   "execution_count": 40,
   "metadata": {},
   "outputs": [
    {
     "name": "stdout",
     "output_type": "stream",
     "text": [
      "{'id': 7, 'text': '○ขับขี่บนพื้นถนนที่เป็นกรวดหรือปกคลุมด้วยหิมะ ○ขับขี่โดยใช้โซ่พันล้อ ○ขับขี่บนพื้นถนนที่เป็นหลุมเป็นบ่อหรือสูงตํ่าแตกต่างกัน ○ขับขี่บนพื้นผิวถนนที่ไม่เรียบ ●ระบบ ABS ไม่ได้จํากัดอยู่เฉพาะในสถานการณ์ที่มีการเหยียบเบรกอย่างกะทันหันเท่านั้น ระบบนี้ยังอาจช่วยป้องกันไม่ให้ล้อรถล็อกขณะที่คุณขับผ่านฝาท่อ แผ่นเหล็กบนหน้าถนน รอยบนถนน หรือพื้นผิวถนนที่ไม่เรียบอื่นๆ ●เมื่อมีการใช้งานระบบ ABS คุณอาจรู้สึกได้ว่าแป้นเบรกสะเทือนเป็นจังหวะและตัวรถและพวงมาลัยสั่นสะเทือน และยังอาจรู้สึกได้ว่าแป้นเบรกเกิดแรงต้านขณะเหยียบเบรก ในสถานการณ์เช่นนี้ ให้เหยียบแป้นเบรกอย่างหนักแน่น อย่ากดเบรกแล้วปล่อยซํ้าๆ', 'meta': {'label': \"['งาน', 'กรวด', 'ท่อ', 'ขับ', 'เมื่อ']\"}, 'score': 0.56392366}\n",
      "{'id': 0, 'text': 'เส้นคาดการณ์ แนวทางรถอาจแสดงไม่ถูกต้อง     • บนถนนที่ปกคลุมด้วยหิมะหรือลื่นอาจมีความแตกต่าง ระหว่างเส้นคาดการณ์แนวทางรถกับเส้นแนวทางรถจริง', 'meta': {'label': \"['', 'ถนน', 'ปกคลุม', 'การณ์แนวทาง', 'แสดงไม่']\"}, 'score': 0.43370095}\n",
      "{'id': 4, 'text': 'ให้ขับรถช้าๆ ตามปกติหลังจากตรวจดูแล้วว่าไฟสว่างขึ้น ○หากไฟแสดงการทํางาน 2WD/4WD ไม่หยุดกะพริบหลังจากเลือก “2H”  “4H” ขณะที่รถกําลังเคลื่อนที่ ให้จับพวงมาลัยให้ตรง แล้วเหยียบคันเร่งช้าๆ หลายๆ ครั้ง “4H”  “4L” ตําแหน่งปุ่มเลือกการขับเคลื่อน 4 ล้อไฟแสดงการทํางาน2Hกําลังเปลี่ยนโหมดการขับเคลื่อน 4 ล้อ4H', 'meta': {'label': \"['ทํางาน2Hกําลังเปลี่ยน', 'ทํางาน2Hกําลัง', 'งาน', 'จากตรวจ', 'ขับ']\"}, 'score': 0.24943776}\n",
      "{'id': 5, 'text': 'ตัวกรองเขม่าไอเสียจะเผาไหม้เขม่าที่ถูกดักจับโดยอัตโนมัติขณะใช้งานรถ  อย่างไรก็ตาม  \\nตัวกรองเขม่าไอเสียจะไม่สามารถเผาไหม้เขม่าที่ถูกดักจับทั้งหมดได้ภายใต้บางสภาพการขับขี่  \\nด้วยเหตุนี้จึงมีเขม่าสะสมอยู่ในตัวกรองเขม่าไอเสียมากเกินไป \\n \\nคําเตือน  \\n● ตัวกรองเขม่าไอเสียมีอุณหภูมิสูงมาก  ห้ามจอดรถในบริเวณที่มีวัสดุที่ติดไฟได้  เช่น \\nหญ้าหรือใบไม้แห้งเนื่องจากสิ่งเหล่านี้อาจสัมผัสความร้อนจากระบบไอเสีย  ส่งผลให้ติดไฟได้  \\n \\nข้อควรระวัง  \\n● อย่าใช้นํ้ามันเชื้อเพลิงหรือนํ้ามันเครื่องชนิดใดๆ  ที่ไม่ได้ระบุไว้สําหรับรถของคุณ  \\nนอกจากนี้อย่าใช้สารขจัดความชื้นหรือสารเติมแต่งนํ้ามันเชื้อเพลิงอื่นๆ', 'meta': {'label': \"['งาน', 'ชื้น', 'เขม่าสะสม', 'ชนิดใด', 'ควรระวัง']\"}, 'score': 0.09437045}\n"
     ]
    }
   ],
   "source": [
    "rerankrequest = RerankRequest(query=query, passages=passages)\n",
    "results = ranker.rerank(rerankrequest)\n",
    "for i in range(4) : print(results[i])"
   ]
  },
  {
   "cell_type": "code",
   "execution_count": 41,
   "metadata": {},
   "outputs": [
    {
     "data": {
      "text/plain": [
       "[Document(page_content='เส้นคาดการณ์ แนวทางรถอาจแสดงไม่ถูกต้อง     • บนถนนที่ปกคลุมด้วยหิมะหรือลื่นอาจมีความแตกต่าง ระหว่างเส้นคาดการณ์แนวทางรถกับเส้นแนวทางรถจริง', metadata={'label': \"['', 'ถนน', 'ปกคลุม', 'การณ์แนวทาง', 'แสดงไม่']\"}),\n",
       " Document(page_content='ข้อควรระวัง ● หํามลากรถเกียร์อัตโนมัติโดยยกล้อหน้าขึ้น (และล้อหลังอยู่บนพื้น) (แบบ B) เมื่อนํ้ามันเกียร์อยู่', metadata={'label': \"['ควรระวัง', 'ยกล้อหน้า', 'ข้อ', 'เกียร์', 'เกียร์อัตโนมัติ']\"}),\n",
       " Document(page_content='การเร่งหรือลดความเร็วทันที) ■เมื่อรถและคนเดินถนนอยู่เยี้องจากเส้นทางไปข้างหน้าของรถ ■หากความเร็วระหว่างรถสองคันต่างกันเล็กน้อย ■ประมาณ 15 วินาทีหลังจากสตาร์ทเครื่องยนต์ ■หากรถคันหน้าหรือรถที่ใกล้เข้ามามีรูปทรงเฉพาะหรือผิดปกติมีระยะห่างระหว่างความสูงและตํ่ามาก หรือการบรรทุกสัมภาระผิดปกติหรือแคบ (ตัวอย่างเช่น รถจักรยานยนต์) คําเตือน ■เมื่อรถหรือคนเดินถนนอยู่ใกล้เครื่องหมายจราจร บริเวณที่เกิดการสะท้อน (ตัวอย่างเช่น นํ้าบนถนน) หรืออยู่ในเงา ■เมื่อคนเดินถนนหลายคนรวมตัวกัน ■เมื่อรถหรือวัตถุอื่นๆ ทําให้การมองคนเดินถนนไม่ชัดเจน ■ในขณะลากรถพ่วง ■เมื่อวัตถุเป็นคนเดินถนนในเครื่องแต่งกายสีขาว', metadata={'label': \"['ต่างกัน', 'เมื่อ', 'ระหว่างรถ', 'ระหว่างความ', 'เยี้อง']\"}),\n",
       " Document(page_content='1. คาดเข็มขัดนิรภัย  \\n2. ตรวจให้แน่ใจว่าใส่เบรกมือแล้ว  \\n3. เหยียบเบรกค้างไว้ให้มั่นคงด้วยเท้าขวา  \\n \\nหมายเหตุ  \\n● เมื่อเครื่องยนต์ยังไม่สตาร์ท อาจจะเหยียบเบรกได้ยากและรถอาจไม่สามารถตรวจจับการทํางานของแป้น  ดังนั้น \\nเครื่องยนต์อาจจะสตาร์ทไม่ติด  ในกรณีนี้พยายามเหยียบเบรกให้แรงกว่าปกติ  \\n \\n4. สําหรับรถเกียร์ธรรมดา  ให้เหยียบแป้นคลัตช์จนสุดและเลื่อนคันเกียร์ไปที่ตําแหน่ง “N” ( เกียร์ว่าง ) สําหรับรถเกียร์อัตโนมัติ  \\nดูให้แน่ใจว่าคันเกียร์อยู่ที่ตําแหน่ง  “P” (จอด )', metadata={'label': \"['งาน', 'จอด', 'มั่นคง', 'เบรกมือ', 'แน่ใจว่า']\"})]"
      ]
     },
     "execution_count": 41,
     "metadata": {},
     "output_type": "execute_result"
    }
   ],
   "source": [
    "retrieved_docs[:4]"
   ]
  },
  {
   "cell_type": "markdown",
   "metadata": {},
   "source": [
    "# Simple Neural Networks"
   ]
  },
  {
   "cell_type": "code",
   "execution_count": null,
   "metadata": {},
   "outputs": [],
   "source": []
  }
 ],
 "metadata": {
  "kernelspec": {
   "display_name": "Python 3",
   "language": "python",
   "name": "python3"
  },
  "language_info": {
   "codemirror_mode": {
    "name": "ipython",
    "version": 3
   },
   "file_extension": ".py",
   "mimetype": "text/x-python",
   "name": "python",
   "nbconvert_exporter": "python",
   "pygments_lexer": "ipython3",
   "version": "3.10.9"
  }
 },
 "nbformat": 4,
 "nbformat_minor": 2
}
