{
 "cells": [
  {
   "cell_type": "code",
   "execution_count": 2,
   "metadata": {},
   "outputs": [],
   "source": [
    "import pandas as pd\n"
   ]
  },
  {
   "cell_type": "code",
   "execution_count": 3,
   "metadata": {},
   "outputs": [
    {
     "data": {
      "text/html": [
       "<div>\n",
       "<style scoped>\n",
       "    .dataframe tbody tr th:only-of-type {\n",
       "        vertical-align: middle;\n",
       "    }\n",
       "\n",
       "    .dataframe tbody tr th {\n",
       "        vertical-align: top;\n",
       "    }\n",
       "\n",
       "    .dataframe thead th {\n",
       "        text-align: right;\n",
       "    }\n",
       "</style>\n",
       "<table border=\"1\" class=\"dataframe\">\n",
       "  <thead>\n",
       "    <tr style=\"text-align: right;\">\n",
       "      <th></th>\n",
       "      <th>questions</th>\n",
       "      <th>answer</th>\n",
       "      <th>doc_page</th>\n",
       "      <th>doc_content</th>\n",
       "      <th>doc_source</th>\n",
       "    </tr>\n",
       "  </thead>\n",
       "  <tbody>\n",
       "    <tr>\n",
       "      <th>90</th>\n",
       "      <td>ต้องทำอย่างไรเมื่อความเร็วรถลดลงต่ำกว่าประมาณ ...</td>\n",
       "      <td>เมื่อความเร็วรถลดลงต่ำกว่าประมาณ 30 กม./ชม., ค...</td>\n",
       "      <td>127</td>\n",
       "      <td>แผงหน้าปัดและอุปกรณ์ควบคุม  5  \\nคันสวิตช์ไฟเล...</td>\n",
       "      <td>docs/Text_PDF_.pdf</td>\n",
       "    </tr>\n",
       "    <tr>\n",
       "      <th>91</th>\n",
       "      <td>ระบบ FCM อาจไม่ทำงานในสภาวะใดบ้าง?</td>\n",
       "      <td>ระบบ FCM อาจไม่ทำงานในสภาวะดังต่อไปนี้:\\n- รถค...</td>\n",
       "      <td>213</td>\n",
       "      <td>○ ระบบ FCM อาจไม่ทํางานหากรถคันหน้ามีลักษณะแคบ...</td>\n",
       "      <td>docs/Text_PDF_.pdf</td>\n",
       "    </tr>\n",
       "    <tr>\n",
       "      <th>92</th>\n",
       "      <td>ตัวแสดงโหมดการขับเคลื่อน 4 ล้อแสดงสถานะการเปลี...</td>\n",
       "      <td>ตัวแสดงโหมดการขับเคลื่อน 4 ล้อจะสว่างตามตำแหน่...</td>\n",
       "      <td>180</td>\n",
       "      <td>ตัวแสดงโหมดการขับเคลื่อน  4 ล้อและตัวแสดงการทํ...</td>\n",
       "      <td>docs/Text_PDF_.pdf</td>\n",
       "    </tr>\n",
       "  </tbody>\n",
       "</table>\n",
       "</div>"
      ],
      "text/plain": [
       "                                            questions  \\\n",
       "90  ต้องทำอย่างไรเมื่อความเร็วรถลดลงต่ำกว่าประมาณ ...   \n",
       "91                 ระบบ FCM อาจไม่ทำงานในสภาวะใดบ้าง?   \n",
       "92  ตัวแสดงโหมดการขับเคลื่อน 4 ล้อแสดงสถานะการเปลี...   \n",
       "\n",
       "                                               answer  doc_page  \\\n",
       "90  เมื่อความเร็วรถลดลงต่ำกว่าประมาณ 30 กม./ชม., ค...       127   \n",
       "91  ระบบ FCM อาจไม่ทำงานในสภาวะดังต่อไปนี้:\\n- รถค...       213   \n",
       "92  ตัวแสดงโหมดการขับเคลื่อน 4 ล้อจะสว่างตามตำแหน่...       180   \n",
       "\n",
       "                                          doc_content          doc_source  \n",
       "90  แผงหน้าปัดและอุปกรณ์ควบคุม  5  \\nคันสวิตช์ไฟเล...  docs/Text_PDF_.pdf  \n",
       "91  ○ ระบบ FCM อาจไม่ทํางานหากรถคันหน้ามีลักษณะแคบ...  docs/Text_PDF_.pdf  \n",
       "92  ตัวแสดงโหมดการขับเคลื่อน  4 ล้อและตัวแสดงการทํ...  docs/Text_PDF_.pdf  "
      ]
     },
     "execution_count": 3,
     "metadata": {},
     "output_type": "execute_result"
    }
   ],
   "source": [
    "df = pd.read_csv(\"rerank_dataset.csv\", index_col=0)\n",
    "\n",
    "df.tail(3)"
   ]
  },
  {
   "cell_type": "code",
   "execution_count": 5,
   "metadata": {},
   "outputs": [
    {
     "data": {
      "text/plain": [
       "'และดึงสวิตช์ขึ้นเพื่อปิดกุญแจอัจฉริยะ หมายเหตุ -  การเปิดปิดซํ้าๆ ขณะที่เครื่องยนต์ไม่ทํางานจะเป็นการสิ้นเปลืองแบตเตอรี่พยายามอย่าใช้สวิตช์กระจกยกเว้นในขณะที่เครื่องยนต์กําลังทํางาน -  กระจกหน้าต่างประตูหลังจะเปิดเพียงครึ่งเดียวเท่านั้น (ดับเบิลแค็บ) สวิตช์ล็อก เมื่อกดสวิตช์ล็อก (1) ไฟแสดง (2) จะสว่างขึ้น และสวิตช์ด้านผู้โดยสารจะไม่สามารถใช้เปิดหรือปิดกระจกหน้าต่างประตูได้ และสวิตช์ด้านคนขับจะไม่สามารถเปิดหรือปิดกระจกหน้าต่างประตูอื่นได้นอกจากกระจกหน้าต่างประตูด้านคนขับการปลดล็อก ให้กดสวิตช์ล็อกอีกครั้ง และไฟแสดงจะดับลงกุญแจอัจฉริยะ'"
      ]
     },
     "execution_count": 5,
     "metadata": {},
     "output_type": "execute_result"
    }
   ],
   "source": [
    "df[\"doc_content\"][0]"
   ]
  },
  {
   "cell_type": "code",
   "execution_count": null,
   "metadata": {},
   "outputs": [],
   "source": []
  }
 ],
 "metadata": {
  "kernelspec": {
   "display_name": "Python 3",
   "language": "python",
   "name": "python3"
  },
  "language_info": {
   "codemirror_mode": {
    "name": "ipython",
    "version": 3
   },
   "file_extension": ".py",
   "mimetype": "text/x-python",
   "name": "python",
   "nbconvert_exporter": "python",
   "pygments_lexer": "ipython3",
   "version": "3.10.9"
  }
 },
 "nbformat": 4,
 "nbformat_minor": 2
}
