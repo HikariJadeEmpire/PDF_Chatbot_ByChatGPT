{
 "cells": [
  {
   "cell_type": "code",
   "execution_count": 1,
   "metadata": {},
   "outputs": [],
   "source": [
    "import random\n",
    "\n",
    "# Modules to import\n",
    "\n",
    "from langchain.chat_models import ChatOpenAI\n",
    "from langchain.chains import ConversationalRetrievalChain, RetrievalQA\n",
    "from langchain.document_loaders import PyPDFLoader\n",
    "from langchain.embeddings.openai import OpenAIEmbeddings\n",
    "from langchain.memory import ConversationBufferMemory\n",
    "from langchain.text_splitter import RecursiveCharacterTextSplitter\n",
    "\n",
    "from langchain.vectorstores.faiss import FAISS"
   ]
  },
  {
   "cell_type": "markdown",
   "metadata": {},
   "source": [
    "# Get OpenAI API KEY"
   ]
  },
  {
   "cell_type": "code",
   "execution_count": 1,
   "metadata": {},
   "outputs": [],
   "source": [
    "import os\n",
    "from dotenv import load_dotenv, find_dotenv\n",
    "\n",
    "load_dotenv(find_dotenv()) # read local .env file\n",
    "api = os.getenv('OPENAI_API_KEY_H')"
   ]
  },
  {
   "cell_type": "markdown",
   "metadata": {},
   "source": [
    "# Split Chunk"
   ]
  },
  {
   "cell_type": "code",
   "execution_count": 3,
   "metadata": {},
   "outputs": [],
   "source": [
    "r_splitter = RecursiveCharacterTextSplitter(\n",
    "    chunk_size=600,\n",
    "    chunk_overlap=100,\n",
    "    separators=[\"\\n\\n\", \"\\n\", \"(?<=\\. )\", \" \", \"\"]\n",
    ")\n",
    "\n",
    "docs = []\n",
    "for loader in os.listdir(\"docs\"):\n",
    "    if loader is not None :\n",
    "        try :\n",
    "            docs.extend(PyPDFLoader(\"docs/\"+loader).load())\n",
    "        except Exception as e1 :\n",
    "            print(f\" [ Documents ERROR ] : {e1}\")\n",
    "    else : break"
   ]
  },
  {
   "cell_type": "code",
   "execution_count": 4,
   "metadata": {},
   "outputs": [
    {
     "data": {
      "text/plain": [
       "[Document(page_content='1-72 สารบัญ ภาพโดยรวม/คู่มืออย่างง่าย        1 ข้อมูลทั่วไป          2 การล็อกและการปลดล็อก        3 เบาะนั่งและเข็มขัดนิรภัย         4 แผงหน้าป้ดและอุปกรณ์ควบคุม        5 การสตาร์ทและการขับขี่         6 การใช้อุปกรณ์อํานวยความสะดวก       7 เมื่อเกิดเหตุฉุกเฉิน         8 การดูแลรักษาสภาพรถ         9 การบํารุงรักษา          10 ข้อมูลจําเพาะ          11 ', metadata={'source': 'docs/Text_PDF_.pdf', 'page': 0}),\n",
       " Document(page_content='แผงหน้าป้ดและอุปกรณ์ควบคุม(ด้านคนขับ) ภาพโดยรวม/คู่มืออย่างง่าย1-11 - สวิตช์ที่ป้ดนํ้าฝนและฉีดนํ้าล้างกระจกหน้า5-45 - แผงหน้าป้ดหน้า5-2 - สวิตช์ควบคุมความสว่างของแผงหน้าป้ดหน้า5-2 - สวิตช์ระบบควบคุมเสถียรภาพการทรงตัว(ASC)OFFหน้า6-70 - สวิตช์เซ็นทรัลล็อกหน้า3-15 - สวิตช์ควบคุมหน้าต่างไฟฟ้าหน้า3-19 - สวิตช์ล็อกหน้า3-20 - สวิตช์ไฟหน้าและไฟสูง-ตํ่าหน้า5-40 - สวิตช์ระบบปรับไฟสูงอัตโนมัติ(AHB)หน้า5-43 - คันสวิตช์ไฟเลี้ยวหน้า5-44 - สวิตช์ไฟตัดหมอกด้านหน้าหน้า5-45 - สวิตช์หน้าจอแสดงข้อมูลรวมหน้า5-4 - สวิตช์ควบคุมเครื่องเสียงบนพวงมาลัยให้ดูคู่มือการใช้งานแยกต่างหากสวิตช์เครื่องยนต์หน้า6-13 - ถุงลมนิรภัยSRSด้านคนขับหน้า4-22,4-26 - สวิตช์แตรหน้า5-50 - สวิตช์แฮนด์ฟรีสวิตช์ระบบการรู้จําเสียงให้ดูคู่มือการใช้งานแยกต่างหากที่วางแก้วหน้า7-31 - สวิตช์AutoStop&Go(AS&G)OFFหน้า6-27 - สวิตช์กุญแจหน้า6-11 - ที่เปิดฝากระโปรงหน้า10-3 - รีโมทไฟฟ้า-ควบคุมกระจกมองข้างหน้า6-8 - คันปลดล็อกฝาปิดถังนํ้ามันเชื้อเพลิงหน้า2-2 *รวมถึงความแตกต่างในข้อมูลจําเพาะของอุปกรณ์และตัวเลือกของผู้ผลิตด้วย ', metadata={'source': 'docs/Text_PDF_.pdf', 'page': 1})]"
      ]
     },
     "execution_count": 4,
     "metadata": {},
     "output_type": "execute_result"
    }
   ],
   "source": [
    "docs[:2]"
   ]
  },
  {
   "cell_type": "markdown",
   "metadata": {},
   "source": [
    "# Vector Database"
   ]
  },
  {
   "cell_type": "code",
   "execution_count": 5,
   "metadata": {},
   "outputs": [],
   "source": [
    "splits = r_splitter.split_documents(docs)\n",
    "\n",
    "db = FAISS.from_documents( splits, OpenAIEmbeddings( api_key = api ) )"
   ]
  },
  {
   "cell_type": "code",
   "execution_count": 6,
   "metadata": {},
   "outputs": [
    {
     "data": {
      "text/plain": [
       "Document(page_content=': กะพริบ (ตัวแสดงโหมดการขับเคลื่อน4 ล้อกะพริบด้วย) : สว่าง : ดับ “4H”  “4HLc” \\n: กะพริบ (ตัวแสดงโหมดการขับเคลื่อน 4 ล้อกะพริบด้วย) : สว่าง : ดับ ตําแหน่งปุ่มเลือกการขับเคลื่อน 4 ล้อตัวแสดง2Hกําลังเปลี่ยนโหมดการขับเคลื่อน 4 ล้อ4H\\nตําแหน่งปุ่มเลือกการขับเคลื่อน 4 ล้อตัวแสดง4Hกําลังเปลี่ยนโหมดการขับเคลื่อน 4 ล้อ4HLc', metadata={'source': 'docs/Text_PDF_.pdf', 'page': 196})"
      ]
     },
     "execution_count": 6,
     "metadata": {},
     "output_type": "execute_result"
    }
   ],
   "source": [
    "splits[random.randint(0,len(splits))]"
   ]
  },
  {
   "cell_type": "markdown",
   "metadata": {},
   "source": [
    "# CHAT"
   ]
  },
  {
   "cell_type": "code",
   "execution_count": 7,
   "metadata": {},
   "outputs": [],
   "source": [
    "# Memory\n",
    "\n",
    "memory = ConversationBufferMemory(\n",
    "    memory_key=\"chat_history\",\n",
    "    return_messages=True,\n",
    "    output_key='answer',\n",
    ")"
   ]
  },
  {
   "cell_type": "code",
   "execution_count": 8,
   "metadata": {},
   "outputs": [],
   "source": [
    "model_lists = [ \"gpt-3.5-turbo\", 'gpt-4-1106-preview', \"gpt-4\", ]\n",
    "\n",
    "llm = ChatOpenAI( api_key = api, model_name = model_lists[0], temperature = 0 )"
   ]
  },
  {
   "cell_type": "code",
   "execution_count": 34,
   "metadata": {},
   "outputs": [],
   "source": [
    "# qa = RetrievalQA.from_chain_type(\n",
    "#     llm,\n",
    "#     retriever=db.as_retriever(search_type=\"similarity\", search_kwargs={\"k\": 1}),\n",
    "#     chain_type=\"map_reduce\",\n",
    "#     return_source_documents = True,\n",
    "# )"
   ]
  },
  {
   "cell_type": "code",
   "execution_count": 12,
   "metadata": {},
   "outputs": [],
   "source": [
    "memory.clear()"
   ]
  },
  {
   "cell_type": "code",
   "execution_count": 9,
   "metadata": {},
   "outputs": [],
   "source": [
    "qa = ConversationalRetrievalChain.from_llm(\n",
    "            llm = llm,\n",
    "            retriever = db.as_retriever(search_type=\"similarity\", search_kwargs={\"k\": 3}),\n",
    "            memory = memory,\n",
    "            return_source_documents = True,\n",
    "            return_generated_question = True,\n",
    "        )"
   ]
  },
  {
   "cell_type": "markdown",
   "metadata": {},
   "source": [
    "## Get answer (Testing)"
   ]
  },
  {
   "cell_type": "code",
   "execution_count": 14,
   "metadata": {},
   "outputs": [
    {
     "name": "stdout",
     "output_type": "stream",
     "text": [
      "context : หมายเหตุ  \n",
      "● หากคุณยังคงกดสวิตช์  “ASC OFF” ค้างไว้หลังจากที่ฟังก์ชันควบคุมเสถียรภาพปิดไปแล้ว  “ฟังก\n",
      "page : 210\n",
      "\n",
      "\n",
      "dict_keys(['question', 'chat_history', 'answer', 'source_documents', 'generated_question'])\n",
      "\n",
      "\n",
      "Question :\n",
      "\n",
      "context : 'หมายเหตุ  \n",
      "● หากคุณยังคงกดสวิตช์  “ASC OFF” ค้างไว้หลังจากที่ฟังก์ชันควบคุมเสถียรภาพปิดไปแล้ว  “ฟังก์ชันป้องกันการทํางานผิดพลาด ” \n",
      "จะทํางานและเปิดฟังก์ชันควบคุมเสถียรภาพอีกครั้ง  \n",
      "● แม้จะปิดฟังก์ชันควบคุมเสถียรภาพไปแล้ว  แต่ฟังก์ชันนี้อาจกลับมาทํางานได้โดยขึ้นอยู่กับการเคลื่อนไหวของรถ  \n",
      " \n",
      "ฟังก์ชันควบคุมการออกตัวและการเข้าโค้ง  \n",
      "E00617001048 \n",
      "ฟังก์ชันควบคุมการออกตัวและการเข้าโค้งป้องกันไม่ให้ล้อหมุนมากเกินไปบนถนนลื่นและช่วยให้รถที่หยุดอยู่ออกตัวได้  \n",
      "นอกจากนี้ยังให้กําลังการขับเคลื่อนที่เพียงพอและทําให้การหมุนพวงมาลัยมีประสิทธิภาพเมื่อรถเลี้ยวขณะเหยียบคันเร่ง \n",
      " \n",
      "ข้อควรระวัง'\n",
      "Create 1 question using only the context provided.\n",
      "End each question with a '?' character.\n",
      "You must answer the question by refer to the context as much as you can.\n",
      "Separate question/answer by a newline.\n",
      "the question and the answer should be thai language.\n",
      "\n",
      "\n",
      "Answer :\n",
      "ฟังก์ชันควบคุมการออกตัวและการเข้าโค้งมีประโยชน์อย่างไร?\n",
      "\n",
      "Source :\n",
      "Page : {'source': 'docs/Text_PDF_.pdf', 'page': 209}\n",
      "Content : หมายเหตุ  \n",
      "● หากคุณยังคงกดสวิตช์  “ASC OFF” ค้างไว้หลังจากที่ฟังก์ชันควบคุมเสถียรภาพปิดไปแล้ว  “ฟังก์ชันป้องกันการทํางานผิดพลาด ” \n",
      "จะทํางานและเปิดฟังก์ชันควบคุมเสถียรภาพอีกครั้ง  \n",
      "● แม้จะปิดฟังก์ชันควบคุมเสถียรภาพไปแล้ว  แต่ฟังก์ชันนี้อาจกลับมาทํางานได้โดยขึ้นอยู่กับการเคลื่อนไหวของรถ  \n",
      " \n",
      "ฟังก์ชันควบคุมการออกตัวและการเข้าโค้ง  \n",
      "E00617001048 \n",
      "ฟังก์ชันควบคุมการออกตัวและการเข้าโค้งป้องกันไม่ให้ล้อหมุนมากเกินไปบนถนนลื่นและช่วยให้รถที่หยุดอยู่ออกตัวได้  \n",
      "นอกจากนี้ยังให้กําลังการขับเคลื่อนที่เพียงพอและทําให้การหมุนพวงมาลัยมีประสิทธิภาพเมื่อรถเลี้ยวขณะเหยียบคันเร่ง \n",
      " \n",
      "ข้อควรระวัง\n"
     ]
    }
   ],
   "source": [
    "ran = splits[random.randint(0,len(splits))]\n",
    "\n",
    "prompt = f\"\"\"\n",
    "context : '{ran.page_content}'\n",
    "Create 1 question using only the context provided.\n",
    "End each question with a '?' character.\n",
    "You must answer the question by refer to the context as much as you can.\n",
    "Separate question/answer by a newline.\n",
    "the question and the answer should be thai language.\n",
    "\"\"\"\n",
    "\n",
    "# Test\n",
    "result = qa({\"question\": prompt})\n",
    "\n",
    "print(f\"context : {(ran.page_content)[:100]}\\npage : {(ran.metadata)['page']+1}\\n\\n\")\n",
    "\n",
    "print(f\"{result.keys()}\\n\\n\")\n",
    "print(f\"Question :\\n{result['generated_question']}\\n\\nAnswer :\\n{result['answer']}\\n\\nSource :\\nPage : {(result['source_documents'])[0].metadata}\\nContent : {(result['source_documents'])[0].page_content}\")"
   ]
  },
  {
   "cell_type": "code",
   "execution_count": 15,
   "metadata": {},
   "outputs": [
    {
     "data": {
      "text/plain": [
       "210"
      ]
     },
     "execution_count": 15,
     "metadata": {},
     "output_type": "execute_result"
    }
   ],
   "source": [
    "((result['source_documents'])[0].metadata)['page']+1"
   ]
  },
  {
   "cell_type": "code",
   "execution_count": 14,
   "metadata": {},
   "outputs": [],
   "source": [
    "# del result"
   ]
  },
  {
   "cell_type": "markdown",
   "metadata": {},
   "source": [
    "# Prepare_dataset"
   ]
  },
  {
   "cell_type": "code",
   "execution_count": 5,
   "metadata": {},
   "outputs": [
    {
     "data": {
      "text/html": [
       "<div>\n",
       "<style scoped>\n",
       "    .dataframe tbody tr th:only-of-type {\n",
       "        vertical-align: middle;\n",
       "    }\n",
       "\n",
       "    .dataframe tbody tr th {\n",
       "        vertical-align: top;\n",
       "    }\n",
       "\n",
       "    .dataframe thead th {\n",
       "        text-align: right;\n",
       "    }\n",
       "</style>\n",
       "<table border=\"1\" class=\"dataframe\">\n",
       "  <thead>\n",
       "    <tr style=\"text-align: right;\">\n",
       "      <th></th>\n",
       "      <th>questions</th>\n",
       "      <th>answer</th>\n",
       "      <th>doc_page</th>\n",
       "      <th>doc_content</th>\n",
       "      <th>doc_source</th>\n",
       "    </tr>\n",
       "  </thead>\n",
       "  <tbody>\n",
       "    <tr>\n",
       "      <th>90</th>\n",
       "      <td>ต้องทำอย่างไรเมื่อความเร็วรถลดลงต่ำกว่าประมาณ ...</td>\n",
       "      <td>เมื่อความเร็วรถลดลงต่ำกว่าประมาณ 30 กม./ชม., ค...</td>\n",
       "      <td>127</td>\n",
       "      <td>แผงหน้าปัดและอุปกรณ์ควบคุม  5  \\nคันสวิตช์ไฟเล...</td>\n",
       "      <td>docs/Text_PDF_.pdf</td>\n",
       "    </tr>\n",
       "    <tr>\n",
       "      <th>91</th>\n",
       "      <td>ระบบ FCM อาจไม่ทำงานในสภาวะใดบ้าง?</td>\n",
       "      <td>ระบบ FCM อาจไม่ทำงานในสภาวะดังต่อไปนี้:\\n- รถค...</td>\n",
       "      <td>213</td>\n",
       "      <td>○ ระบบ FCM อาจไม่ทํางานหากรถคันหน้ามีลักษณะแคบ...</td>\n",
       "      <td>docs/Text_PDF_.pdf</td>\n",
       "    </tr>\n",
       "    <tr>\n",
       "      <th>92</th>\n",
       "      <td>ตัวแสดงโหมดการขับเคลื่อน 4 ล้อแสดงสถานะการเปลี...</td>\n",
       "      <td>ตัวแสดงโหมดการขับเคลื่อน 4 ล้อจะสว่างตามตำแหน่...</td>\n",
       "      <td>180</td>\n",
       "      <td>ตัวแสดงโหมดการขับเคลื่อน  4 ล้อและตัวแสดงการทํ...</td>\n",
       "      <td>docs/Text_PDF_.pdf</td>\n",
       "    </tr>\n",
       "  </tbody>\n",
       "</table>\n",
       "</div>"
      ],
      "text/plain": [
       "                                            questions  \\\n",
       "90  ต้องทำอย่างไรเมื่อความเร็วรถลดลงต่ำกว่าประมาณ ...   \n",
       "91                 ระบบ FCM อาจไม่ทำงานในสภาวะใดบ้าง?   \n",
       "92  ตัวแสดงโหมดการขับเคลื่อน 4 ล้อแสดงสถานะการเปลี...   \n",
       "\n",
       "                                               answer  doc_page  \\\n",
       "90  เมื่อความเร็วรถลดลงต่ำกว่าประมาณ 30 กม./ชม., ค...       127   \n",
       "91  ระบบ FCM อาจไม่ทำงานในสภาวะดังต่อไปนี้:\\n- รถค...       213   \n",
       "92  ตัวแสดงโหมดการขับเคลื่อน 4 ล้อจะสว่างตามตำแหน่...       180   \n",
       "\n",
       "                                          doc_content          doc_source  \n",
       "90  แผงหน้าปัดและอุปกรณ์ควบคุม  5  \\nคันสวิตช์ไฟเล...  docs/Text_PDF_.pdf  \n",
       "91  ○ ระบบ FCM อาจไม่ทํางานหากรถคันหน้ามีลักษณะแคบ...  docs/Text_PDF_.pdf  \n",
       "92  ตัวแสดงโหมดการขับเคลื่อน  4 ล้อและตัวแสดงการทํ...  docs/Text_PDF_.pdf  "
      ]
     },
     "execution_count": 5,
     "metadata": {},
     "output_type": "execute_result"
    }
   ],
   "source": [
    "import pandas as pd\n",
    "\n",
    "df = pd.read_csv(\"rerank_dataset.csv\", index_col=0)\n",
    "\n",
    "df.tail(3)"
   ]
  },
  {
   "cell_type": "code",
   "execution_count": 17,
   "metadata": {},
   "outputs": [],
   "source": [
    "rerank_df = {\"questions\":[], \"answer\":[], \"doc_page\":[], \"doc_content\":[], \"doc_source\":[]}"
   ]
  },
  {
   "cell_type": "code",
   "execution_count": 18,
   "metadata": {},
   "outputs": [],
   "source": [
    "for i in range(51):\n",
    "    ran = splits[random.randint(0,len(splits))]\n",
    "    prompt = f\"\"\"\n",
    "context : '{ran.page_content}'\n",
    "Create 1 question using only the context provided.\n",
    "End each question with a '?' character.\n",
    "You must answer the question by refer to the context as much as you can.\n",
    "Separate question/answer by a newline.\n",
    "the question and the answer should be thai language.\n",
    "\"\"\"\n",
    "    try :\n",
    "        result = qa({\"question\": prompt})\n",
    "        \n",
    "        rerank_df[\"answer\"].append(result['answer'])\n",
    "        rerank_df[\"questions\"].append(result['generated_question'])\n",
    "        rerank_df[\"doc_content\"].append(ran.page_content)\n",
    "        rerank_df[\"doc_page\"].append( (ran.metadata)['page']+1 )\n",
    "        rerank_df[\"doc_source\"].append( (ran.metadata)['source'] )\n",
    "        \n",
    "    except :\n",
    "        memory.clear()\n",
    "        result = qa({\"question\": prompt})\n",
    " "
   ]
  },
  {
   "cell_type": "code",
   "execution_count": 19,
   "metadata": {},
   "outputs": [
    {
     "name": "stdout",
     "output_type": "stream",
     "text": [
      "number of dataset : 42\n",
      "\n",
      "\n"
     ]
    },
    {
     "data": {
      "text/html": [
       "<div>\n",
       "<style scoped>\n",
       "    .dataframe tbody tr th:only-of-type {\n",
       "        vertical-align: middle;\n",
       "    }\n",
       "\n",
       "    .dataframe tbody tr th {\n",
       "        vertical-align: top;\n",
       "    }\n",
       "\n",
       "    .dataframe thead th {\n",
       "        text-align: right;\n",
       "    }\n",
       "</style>\n",
       "<table border=\"1\" class=\"dataframe\">\n",
       "  <thead>\n",
       "    <tr style=\"text-align: right;\">\n",
       "      <th></th>\n",
       "      <th>questions</th>\n",
       "      <th>answer</th>\n",
       "      <th>doc_page</th>\n",
       "      <th>doc_content</th>\n",
       "      <th>doc_source</th>\n",
       "    </tr>\n",
       "  </thead>\n",
       "  <tbody>\n",
       "    <tr>\n",
       "      <th>39</th>\n",
       "      <td>ต้องทำอย่างไรเมื่อความเร็วรถลดลงต่ำกว่าประมาณ ...</td>\n",
       "      <td>เมื่อความเร็วรถลดลงต่ำกว่าประมาณ 30 กม./ชม., ค...</td>\n",
       "      <td>127</td>\n",
       "      <td>แผงหน้าปัดและอุปกรณ์ควบคุม  5  \\nคันสวิตช์ไฟเล...</td>\n",
       "      <td>docs/Text_PDF_.pdf</td>\n",
       "    </tr>\n",
       "    <tr>\n",
       "      <th>40</th>\n",
       "      <td>ระบบ FCM อาจไม่ทำงานในสภาวะใดบ้าง?</td>\n",
       "      <td>ระบบ FCM อาจไม่ทำงานในสภาวะดังต่อไปนี้:\\n- รถค...</td>\n",
       "      <td>213</td>\n",
       "      <td>○ ระบบ FCM อาจไม่ทํางานหากรถคันหน้ามีลักษณะแคบ...</td>\n",
       "      <td>docs/Text_PDF_.pdf</td>\n",
       "    </tr>\n",
       "    <tr>\n",
       "      <th>41</th>\n",
       "      <td>ตัวแสดงโหมดการขับเคลื่อน 4 ล้อแสดงสถานะการเปลี...</td>\n",
       "      <td>ตัวแสดงโหมดการขับเคลื่อน 4 ล้อจะสว่างตามตำแหน่...</td>\n",
       "      <td>180</td>\n",
       "      <td>ตัวแสดงโหมดการขับเคลื่อน  4 ล้อและตัวแสดงการทํ...</td>\n",
       "      <td>docs/Text_PDF_.pdf</td>\n",
       "    </tr>\n",
       "  </tbody>\n",
       "</table>\n",
       "</div>"
      ],
      "text/plain": [
       "                                            questions  \\\n",
       "39  ต้องทำอย่างไรเมื่อความเร็วรถลดลงต่ำกว่าประมาณ ...   \n",
       "40                 ระบบ FCM อาจไม่ทำงานในสภาวะใดบ้าง?   \n",
       "41  ตัวแสดงโหมดการขับเคลื่อน 4 ล้อแสดงสถานะการเปลี...   \n",
       "\n",
       "                                               answer  doc_page  \\\n",
       "39  เมื่อความเร็วรถลดลงต่ำกว่าประมาณ 30 กม./ชม., ค...       127   \n",
       "40  ระบบ FCM อาจไม่ทำงานในสภาวะดังต่อไปนี้:\\n- รถค...       213   \n",
       "41  ตัวแสดงโหมดการขับเคลื่อน 4 ล้อจะสว่างตามตำแหน่...       180   \n",
       "\n",
       "                                          doc_content          doc_source  \n",
       "39  แผงหน้าปัดและอุปกรณ์ควบคุม  5  \\nคันสวิตช์ไฟเล...  docs/Text_PDF_.pdf  \n",
       "40  ○ ระบบ FCM อาจไม่ทํางานหากรถคันหน้ามีลักษณะแคบ...  docs/Text_PDF_.pdf  \n",
       "41  ตัวแสดงโหมดการขับเคลื่อน  4 ล้อและตัวแสดงการทํ...  docs/Text_PDF_.pdf  "
      ]
     },
     "execution_count": 19,
     "metadata": {},
     "output_type": "execute_result"
    }
   ],
   "source": [
    "r_df = pd.DataFrame.from_dict(rerank_df)\n",
    "\n",
    "print(f\"number of dataset : {len(r_df)}\\n\\n\")\n",
    "r_df.tail(3)"
   ]
  },
  {
   "cell_type": "code",
   "execution_count": 20,
   "metadata": {},
   "outputs": [
    {
     "name": "stdout",
     "output_type": "stream",
     "text": [
      "number of dataset : 93\n",
      "\n",
      "\n"
     ]
    },
    {
     "data": {
      "text/html": [
       "<div>\n",
       "<style scoped>\n",
       "    .dataframe tbody tr th:only-of-type {\n",
       "        vertical-align: middle;\n",
       "    }\n",
       "\n",
       "    .dataframe tbody tr th {\n",
       "        vertical-align: top;\n",
       "    }\n",
       "\n",
       "    .dataframe thead th {\n",
       "        text-align: right;\n",
       "    }\n",
       "</style>\n",
       "<table border=\"1\" class=\"dataframe\">\n",
       "  <thead>\n",
       "    <tr style=\"text-align: right;\">\n",
       "      <th></th>\n",
       "      <th>questions</th>\n",
       "      <th>answer</th>\n",
       "      <th>doc_page</th>\n",
       "      <th>doc_content</th>\n",
       "      <th>doc_source</th>\n",
       "    </tr>\n",
       "  </thead>\n",
       "  <tbody>\n",
       "    <tr>\n",
       "      <th>90</th>\n",
       "      <td>ต้องทำอย่างไรเมื่อความเร็วรถลดลงต่ำกว่าประมาณ ...</td>\n",
       "      <td>เมื่อความเร็วรถลดลงต่ำกว่าประมาณ 30 กม./ชม., ค...</td>\n",
       "      <td>127</td>\n",
       "      <td>แผงหน้าปัดและอุปกรณ์ควบคุม  5  \\nคันสวิตช์ไฟเล...</td>\n",
       "      <td>docs/Text_PDF_.pdf</td>\n",
       "    </tr>\n",
       "    <tr>\n",
       "      <th>91</th>\n",
       "      <td>ระบบ FCM อาจไม่ทำงานในสภาวะใดบ้าง?</td>\n",
       "      <td>ระบบ FCM อาจไม่ทำงานในสภาวะดังต่อไปนี้:\\n- รถค...</td>\n",
       "      <td>213</td>\n",
       "      <td>○ ระบบ FCM อาจไม่ทํางานหากรถคันหน้ามีลักษณะแคบ...</td>\n",
       "      <td>docs/Text_PDF_.pdf</td>\n",
       "    </tr>\n",
       "    <tr>\n",
       "      <th>92</th>\n",
       "      <td>ตัวแสดงโหมดการขับเคลื่อน 4 ล้อแสดงสถานะการเปลี...</td>\n",
       "      <td>ตัวแสดงโหมดการขับเคลื่อน 4 ล้อจะสว่างตามตำแหน่...</td>\n",
       "      <td>180</td>\n",
       "      <td>ตัวแสดงโหมดการขับเคลื่อน  4 ล้อและตัวแสดงการทํ...</td>\n",
       "      <td>docs/Text_PDF_.pdf</td>\n",
       "    </tr>\n",
       "  </tbody>\n",
       "</table>\n",
       "</div>"
      ],
      "text/plain": [
       "                                            questions  \\\n",
       "90  ต้องทำอย่างไรเมื่อความเร็วรถลดลงต่ำกว่าประมาณ ...   \n",
       "91                 ระบบ FCM อาจไม่ทำงานในสภาวะใดบ้าง?   \n",
       "92  ตัวแสดงโหมดการขับเคลื่อน 4 ล้อแสดงสถานะการเปลี...   \n",
       "\n",
       "                                               answer  doc_page  \\\n",
       "90  เมื่อความเร็วรถลดลงต่ำกว่าประมาณ 30 กม./ชม., ค...       127   \n",
       "91  ระบบ FCM อาจไม่ทำงานในสภาวะดังต่อไปนี้:\\n- รถค...       213   \n",
       "92  ตัวแสดงโหมดการขับเคลื่อน 4 ล้อจะสว่างตามตำแหน่...       180   \n",
       "\n",
       "                                          doc_content          doc_source  \n",
       "90  แผงหน้าปัดและอุปกรณ์ควบคุม  5  \\nคันสวิตช์ไฟเล...  docs/Text_PDF_.pdf  \n",
       "91  ○ ระบบ FCM อาจไม่ทํางานหากรถคันหน้ามีลักษณะแคบ...  docs/Text_PDF_.pdf  \n",
       "92  ตัวแสดงโหมดการขับเคลื่อน  4 ล้อและตัวแสดงการทํ...  docs/Text_PDF_.pdf  "
      ]
     },
     "metadata": {},
     "output_type": "display_data"
    }
   ],
   "source": [
    "df = pd.concat([df, r_df], \n",
    "                  ignore_index = True)\n",
    "\n",
    "print(f\"number of dataset : {len(df)}\\n\\n\")\n",
    "display(df.tail(3))"
   ]
  },
  {
   "cell_type": "code",
   "execution_count": 32,
   "metadata": {},
   "outputs": [],
   "source": [
    "df.to_csv(\"rerank_dataset.csv\")"
   ]
  },
  {
   "cell_type": "markdown",
   "metadata": {},
   "source": [
    "# Text Labeling"
   ]
  },
  {
   "cell_type": "code",
   "execution_count": 2,
   "metadata": {},
   "outputs": [],
   "source": [
    "from openai import OpenAI\n",
    "\n",
    "client = OpenAI(api_key=api)"
   ]
  },
  {
   "cell_type": "code",
   "execution_count": 26,
   "metadata": {},
   "outputs": [],
   "source": [
    "def get_completion(prompt, model=\"gpt-3.5-turbo\"):\n",
    "    messages = [{\"role\": \"user\", \"content\": prompt}]\n",
    "    response = client.chat.completions.create(\n",
    "        model=model,\n",
    "        messages=messages,\n",
    "        temperature=0, # this is the degree of randomness of the model's output\n",
    "    )\n",
    "    return response.choices[0].message.content"
   ]
  },
  {
   "cell_type": "code",
   "execution_count": 36,
   "metadata": {},
   "outputs": [],
   "source": [
    "categories = {\n",
    "            'parts':[ 'ประตู', 'หน้าต่าง', 'กระจกมองข้าง', 'กระจกหน้า หลัง', 'ล้อ', 'ยาง', 'กระโปรง', 'เกียร์', 'สวิตช์', 'หน้าปัด', 'ระบบ',\n",
    "                    'ถังน้ำมัน', 'กุญแจ', 'เบรก', 'กล้อง', 'หน้าจอ', 'เฟือง', 'แอร์ เครื่องปรับอากาศ', 'เบาะ', 'ช่องเสียบ พอร์ต', 'ที่วาง',\n",
    "                     'ถุงลมนิรภัย', 'แตร', 'รีโมท', 'ช่องเก็บ', 'ไฟฟ้า', 'ไฟ', 'เข็มขัดนิรภัย', 'เซ็นเซอร์',],\n",
    "\n",
    "            'events':[ 'ห้าม อย่า', 'เติม', 'รอย', 'เสียหาย', 'แจ้งเตือน', 'มืด สว่าง', 'รบกวน', 'ชน', 'เตือน ระวัง', 'ลากรถ', 'เปลี่ยน',\n",
    "                      'ลม', 'ไฟหรี่', 'เร็ว ช้า', 'สูง ต่ำ', 'เช็ด ล้าง ทำความสะอาด', 'ฝน', 'ถนน',]\n",
    "              }"
   ]
  },
  {
   "cell_type": "code",
   "execution_count": 27,
   "metadata": {},
   "outputs": [
    {
     "name": "stdout",
     "output_type": "stream",
     "text": [
      "Answer : ความรู้ (knowledge)\n",
      "\n",
      "Original : เป็นเหตุให้เสียงเตือนดังและไฟเตือนสว่างขึ้นได้ -  [รถแบบที่ 1]สําหรับรถรุ่นที่ติดตั้งการเตือนคาดเข็มขัดนิรภัยสําหรับเบาะนั่งผู้โดยสารด้านหลัง เบาะนั่งที่ไม่ได้คาดเข็มขัดนิรภัยสําหรับผู้โดยสารด้านหลังจะถูกรีเซ็ตหลังจากเปิดประตูหลังบานใดบานหนึ่งในขณะที่รถหยุดและปิดประตูทุกบาน สําหรับเบาะนั่งผู้โดยสารด้านหลัง* 1- เบาะนั่งสีแดงที่มีสัญลักษณ์ “X”: แสดงว่าเข็มขัดนิรภัยที่เกี่ยวข้องไม่ได้คาด 2- เบาะนั่งสีเขียวที่มีเครื่องหมายถูก: คาดเข็มขัดนิรภัยที่เกี่ยวข้อง การเตือนคาดเข็มขัดนิรภัยด้านหลังจะแสดงบนหน้าจอแสดงข้อมูลรวมเป็นเวลาประมาณ 65 วินาทีเมื่อโหมดการทํางานอยู่ที่ ON\n"
     ]
    }
   ],
   "source": [
    "# test\n",
    "num = 3\n",
    "\n",
    "prompt = f\"\"\"\n",
    "context : '{num}'\n",
    "Your task is to label the context provided.\n",
    "if there're more than 1 label, \n",
    "summarize them into 1 keyword in thai language.\n",
    "\"\"\"\n",
    "\n",
    "lang = get_completion(prompt)\n",
    "print(f\"Answer : {lang}\\n\\nOriginal : {df['doc_content'][num]}\")"
   ]
  },
  {
   "cell_type": "code",
   "execution_count": 8,
   "metadata": {},
   "outputs": [
    {
     "data": {
      "text/plain": [
       "str"
      ]
     },
     "execution_count": 8,
     "metadata": {},
     "output_type": "execute_result"
    }
   ],
   "source": [
    "type(lang)"
   ]
  },
  {
   "cell_type": "code",
   "execution_count": 12,
   "metadata": {},
   "outputs": [],
   "source": [
    "temp_df = {'label':[], 'questions':[]}"
   ]
  },
  {
   "cell_type": "code",
   "execution_count": 13,
   "metadata": {},
   "outputs": [],
   "source": [
    "for n,num in enumerate(df['doc_content']):\n",
    "    prompt = f\"\"\"\n",
    "context : '{num}'\n",
    "Your task is to label the context provided.\n",
    "if there're more than 1 label, \n",
    "summarize them into 1 keyword in thai language.\n",
    "\"\"\"\n",
    "\n",
    "    lang = get_completion(prompt)\n",
    "    temp_df['questions'].append(df['questions'][n])\n",
    "    temp_df['label'].append(lang)\n",
    "    "
   ]
  },
  {
   "cell_type": "code",
   "execution_count": 28,
   "metadata": {},
   "outputs": [
    {
     "name": "stdout",
     "output_type": "stream",
     "text": [
      "Number of label 93\n",
      "Number of questions : 93\n"
     ]
    }
   ],
   "source": [
    "print(f\"Number of label {len(temp_df['label'])}\\nNumber of questions : {len(temp_df['questions'])}\")"
   ]
  },
  {
   "cell_type": "code",
   "execution_count": 30,
   "metadata": {},
   "outputs": [
    {
     "data": {
      "text/html": [
       "<div>\n",
       "<style scoped>\n",
       "    .dataframe tbody tr th:only-of-type {\n",
       "        vertical-align: middle;\n",
       "    }\n",
       "\n",
       "    .dataframe tbody tr th {\n",
       "        vertical-align: top;\n",
       "    }\n",
       "\n",
       "    .dataframe thead th {\n",
       "        text-align: right;\n",
       "    }\n",
       "</style>\n",
       "<table border=\"1\" class=\"dataframe\">\n",
       "  <thead>\n",
       "    <tr style=\"text-align: right;\">\n",
       "      <th></th>\n",
       "      <th>questions</th>\n",
       "      <th>answer</th>\n",
       "      <th>doc_page</th>\n",
       "      <th>doc_content</th>\n",
       "      <th>doc_source</th>\n",
       "      <th>label</th>\n",
       "    </tr>\n",
       "  </thead>\n",
       "  <tbody>\n",
       "    <tr>\n",
       "      <th>90</th>\n",
       "      <td>ต้องทำอย่างไรเมื่อความเร็วรถลดลงต่ำกว่าประมาณ ...</td>\n",
       "      <td>เมื่อความเร็วรถลดลงต่ำกว่าประมาณ 30 กม./ชม., ค...</td>\n",
       "      <td>127</td>\n",
       "      <td>แผงหน้าปัดและอุปกรณ์ควบคุม  5  \\nคันสวิตช์ไฟเล...</td>\n",
       "      <td>docs/Text_PDF_.pdf</td>\n",
       "      <td>อุปกรณ์ควบคุม</td>\n",
       "    </tr>\n",
       "    <tr>\n",
       "      <th>91</th>\n",
       "      <td>ระบบ FCM อาจไม่ทำงานในสภาวะใดบ้าง?</td>\n",
       "      <td>ระบบ FCM อาจไม่ทำงานในสภาวะดังต่อไปนี้:\\n- รถค...</td>\n",
       "      <td>213</td>\n",
       "      <td>○ ระบบ FCM อาจไม่ทํางานหากรถคันหน้ามีลักษณะแคบ...</td>\n",
       "      <td>docs/Text_PDF_.pdf</td>\n",
       "      <td>ระบบ FCM</td>\n",
       "    </tr>\n",
       "    <tr>\n",
       "      <th>92</th>\n",
       "      <td>ตัวแสดงโหมดการขับเคลื่อน 4 ล้อแสดงสถานะการเปลี...</td>\n",
       "      <td>ตัวแสดงโหมดการขับเคลื่อน 4 ล้อจะสว่างตามตำแหน่...</td>\n",
       "      <td>180</td>\n",
       "      <td>ตัวแสดงโหมดการขับเคลื่อน  4 ล้อและตัวแสดงการทํ...</td>\n",
       "      <td>docs/Text_PDF_.pdf</td>\n",
       "      <td>โหมดการขับเคลื่อน 4 ล้อ</td>\n",
       "    </tr>\n",
       "  </tbody>\n",
       "</table>\n",
       "</div>"
      ],
      "text/plain": [
       "                                            questions  \\\n",
       "90  ต้องทำอย่างไรเมื่อความเร็วรถลดลงต่ำกว่าประมาณ ...   \n",
       "91                 ระบบ FCM อาจไม่ทำงานในสภาวะใดบ้าง?   \n",
       "92  ตัวแสดงโหมดการขับเคลื่อน 4 ล้อแสดงสถานะการเปลี...   \n",
       "\n",
       "                                               answer  doc_page  \\\n",
       "90  เมื่อความเร็วรถลดลงต่ำกว่าประมาณ 30 กม./ชม., ค...       127   \n",
       "91  ระบบ FCM อาจไม่ทำงานในสภาวะดังต่อไปนี้:\\n- รถค...       213   \n",
       "92  ตัวแสดงโหมดการขับเคลื่อน 4 ล้อจะสว่างตามตำแหน่...       180   \n",
       "\n",
       "                                          doc_content          doc_source  \\\n",
       "90  แผงหน้าปัดและอุปกรณ์ควบคุม  5  \\nคันสวิตช์ไฟเล...  docs/Text_PDF_.pdf   \n",
       "91  ○ ระบบ FCM อาจไม่ทํางานหากรถคันหน้ามีลักษณะแคบ...  docs/Text_PDF_.pdf   \n",
       "92  ตัวแสดงโหมดการขับเคลื่อน  4 ล้อและตัวแสดงการทํ...  docs/Text_PDF_.pdf   \n",
       "\n",
       "                      label  \n",
       "90            อุปกรณ์ควบคุม  \n",
       "91                 ระบบ FCM  \n",
       "92  โหมดการขับเคลื่อน 4 ล้อ  "
      ]
     },
     "execution_count": 30,
     "metadata": {},
     "output_type": "execute_result"
    }
   ],
   "source": [
    "temp_df = pd.DataFrame.from_dict(temp_df)\n",
    "df = pd.merge(left=df, right=temp_df, how='left', on='questions')\n",
    "\n",
    "df.tail(3)"
   ]
  },
  {
   "cell_type": "code",
   "execution_count": 34,
   "metadata": {},
   "outputs": [
    {
     "data": {
      "text/plain": [
       "86"
      ]
     },
     "execution_count": 34,
     "metadata": {},
     "output_type": "execute_result"
    }
   ],
   "source": [
    "len(df.label.unique())"
   ]
  },
  {
   "cell_type": "code",
   "execution_count": 35,
   "metadata": {},
   "outputs": [
    {
     "data": {
      "text/plain": [
       "array(['สวิตช์ล็อก', 'การขับขี่ขึ้นทางชัน',\n",
       "       'อุปกรณ์ภายนอก-ด้านหน้า: ซิงเกิลแค็บ, เสาอากาศ, การควบคุมหน้าต่างไฟฟ้า, ฝาปิดถังน้ำมันเชื้อเพลิง, การล็อกและปลดล็อก, ระบบกุญแจรีโมท, กระจกมองข้าง, ไฟเลี้ยวด้านข้าง, ไฟเลี้ยวด้านหน้า, ไฟหน้า, ไฟสูงต่ำ, ไฟหรี่, ที่ปัดน้ำฝนและฉีดน้ำล้างกระจก, ฝากระโปรง, ห้องเครื่องยนต์',\n",
       "       'เตือนคาดเข็มขัดนิรภัย', 'คาดการณ์รถ', 'การขับเคลื่อน 4 ล้อ',\n",
       "       'บำรุงรักษา', 'ถุงลมนิรภัย', 'รถยนต์', 'ระบบเซ็นเซอร์จอดรถ',\n",
       "       'ระบบช่วยเตือนขณะถอยรถ (RCTA)', 'ระบบ ASTC',\n",
       "       'แผงหน้าปัด, อุปกรณ์ควบคุม, ไฟแสดงการทำงาน, ไฟเตือน, หน้าจอแสดงข้อมูล, แบตเตอรี่กุญแจอัจฉริยะ, กุญแจอัจฉริยะ, รถ, สวิตช์เครื่องยนต์, เสียงเตือน, แป้นคลัตช์, แป้นเบรก, เกียร์อัตโนมัติ, หากกุญแจอัจฉริยะทำงานไม่ถูกต้อง, เข็มขัดนิรภัย, เบาะนั่ง',\n",
       "       'ASTC หรือ ASTC OFF', 'ป้องกัน',\n",
       "       'การช่วยเหลือ, การตั้งค่า, นาฬิกา, การบำรุงรักษา, จอแสดง, หน่วยภาษา, การเชื่อมโยงกับกุญแจ, การรีเซ็ตเป็นค่าเริ่มต้น, หน้าจอแสดงข้อมูลรวม',\n",
       "       'อุปกรณ์นิรภัยสำหรับเด็ก', 'ระบบถุงลมนิรภัย SRS', 'ไฟเตือน',\n",
       "       'เกียร์ว่าง, ปุ่มเลือกโหมดการขับเคลื่อน 4 ล้อ, รถกำลังแล่น, รถจอดอยู่กับที่, เลื่อนคันเกียร์, ตำแหน่ง \"N\", ตำแหน่ง \"D\", ขับเคลื่อน, 4H2H',\n",
       "       'คาดเข็มขัดนิรภัย',\n",
       "       'รถรุ่นที่ติดตั้งหน้าจอ LCD สี E00661100218 ระบบอาจทํางานผิดปกติหากตัวแสดงเตือน หรือตัวแสดงเตือน ปรากฏบนหน้าจอแสดงข้อมูลรวม\\n\\nKeyword: รถรุ่นที่ติดตั้งหน้าจอ LCD',\n",
       "       'อุปกรณ์พิเศษ, การอ่านข้อมูล, EDR, การเข้าถึง, รถยนต์, ผู้ผลิตรถยนต์, ตำรวจ',\n",
       "       'โหมดการขับเคลื่อน 4 ล้อกะพริบ', 'เซ็นเซอร์จอดรถ', 'ระบบควบคุม',\n",
       "       'เบาะนั่ง, เข็มขัดนิรภัย, อุปกรณ์นิรภัย, เด็ก, ไฟแสดง, ถุงลมนิรภัย, SRS, ตรวจยืนยัน, ติดสว่าง, ตำแหน่งเบาะนั่ง, ยูนิเวอร์แซล, i-Size, ISOFIX',\n",
       "       'ด้ามแม่แรง', 'แจ้งเตือนแบตเตอรี่กุญแจ',\n",
       "       'ความไม่ชัดเจน, หน้าจอ, แสง, สี, คมชัด, แวดล้อมที่มืด, ลงแวกซ์, บำรุงรักษา',\n",
       "       'การทำความสะอาดผ้า', 'หน้าจอ LCD', 'ระบบถุงลมนิรภัย', 'ความสะอาด',\n",
       "       'ความเร็ว, รถ, คนเดินถนน, รูปทรงเฉพาะ, ระยะห่าง, สัมภาระ, คำเตือน, เครื่องหมายจราจร, การสะท้อน, เงา, กลุ่มคน, การมองเห็น, ลากรถพ่วง, เครื่องแต่งกายสีขาว',\n",
       "       'ควบคุมกระจกหน้าต่างไฟฟ้า',\n",
       "       'แผงหน้าปัด, มาตรวัดรอบเครื่องยนต์, มาตรวัดความเร็วรถยนต์, เกจวัดอุณหภูมินํ้าหล่อเย็นเครื่องยนต์, เกจวัดระดับนํ้ามันเชื้อเพลิง',\n",
       "       'อุปกรณ์ควบคุม', 'ประหยัดน้ำมัน', 'คำเตือน', 'ระบายอากาศ',\n",
       "       'การเลี้ยวโค้งหักศอก, รู้สึกเหมือนเหยียบเบรก, การฝืนทางโค้ง, ขับรถข้ามลำธาร',\n",
       "       'ระวัง', 'ระบบ ABS', 'สารหล่อลื่น', 'ระบบกุญแจอัจฉริยะ',\n",
       "       'อุปกรณ์ชุบน้ำอุ่น', 'รถยนต์, ไฟสว่าง, 2WD/4WD, 2H, 4H, 4L, 4 ล้อ',\n",
       "       'กะพริบ', 'เกียร์', 'อะไหล่แท้', 'อุปกรณ์นิรภัยสําหรับเด็ก',\n",
       "       'เซ็นเซอร์ตรวจจับน้ำฝน', 'เหตุฉุกเฉิน', 'การป้ายชื่อ (Labeling)',\n",
       "       'หลอดไฟ', 'ระบบ HDC', 'คำเฉลย: ความระวัง', 'ปรับอุณหภูมิ',\n",
       "       'แบตเตอรี่',\n",
       "       '- ข้อควรระวัง: ไฟแช็ก, น้ำอัดลมกระป๋อง, แว่นตา, ร้อน, ไฟแช็ก, วัตถุไวไฟ, น้ำอัดลมกระป๋องระเบิด, แว่นตา, เลนส์, ชิ้นส่วน, พลาสติก, เสียรูปทรง, แตกร้าว, ปิดฝาช่องเก็บของ, บาดเจ็บ\\n- กล่องเก็บของ, กล่องเก็บของด้านบน, ที่เก็บแว่นกันแดด, กล่องคอนโซลที่พื้น\\n- กล่องเก็บของ, ปุ๋ม (A)',\n",
       "       'ตัวกรองเขม่าไอเสีย', 'เครื่องมือนิรภัย',\n",
       "       'ไฟห้องโดยสาร, ไฟแผนที่, แว่นกันแดด, ปุ๋มSOS, มือจับช่วยทรงตัว, ม่านถุงลมนิรภัย, จุดยึดเข็มขัดนิรภัย, เข็มขัดนิรภัย, เกี่ยวอเนกประสงค์, สวิตช์การไหลเวียนอากาศ, เครื่องมือ, แม่แรง, ด้ามแม่แรง, ที่พักแขน, ที่วางแก้ว, เบาะนั่ง',\n",
       "       'การขันน็อตล้อ', 'ระบบถุงลมนิรภัย SRS ด้านผู้โดยสารด้านหน้า',\n",
       "       'รีเซ็ตระยะทาง',\n",
       "       'เกียร์ทรานสเฟอร์, เสียง, อากาศเย็น, รถหยุด, 4H, 4L, 2H, 4WD, ไฟแสดงการทำงาน, ความเร็วต่ำ',\n",
       "       'เบาะนั่ง, เข็มขัดนิรภัย, การติดตั้ง, อุปกรณ์นิรภัยสำหรับเด็ก, ISOFIX, ซิงเกิลแค็บ, เมกะแค็บ, ดับเบิลแค็บ, ยึดเบาะด้านล่าง, ยึดด้านหลัง',\n",
       "       'ควบคุมการเลือกการไหลเวียนอากาศหมุนเวียน',\n",
       "       'เบาะนั่ง, ถุงลมนิรภัย, จุดยึด, หันไปข้างหลัง, หันไปข้างหน้า, บูสเตอร์',\n",
       "       'ระบบกุญแจอัจฉริยะ, เครื่องยนต์, ดับเครื่องยนต์, สวิตช์, ประตู',\n",
       "       'สวิตช์กระจกหน้าต่างประตู',\n",
       "       'การตรวจสอบสภาพเข็มขัดนิรภัย - ตรวจสอบ\\nระบบถุงลมนิรภัย (SRS) - ระบบถุงลม',\n",
       "       'ไฟเตือนตรวจเช็คเครื่องยนต์',\n",
       "       'ประตู, ล็อก, อัตโนมัติ, ความเร็ว, ปิด, เปิด, สวิตช์, โหมดการทำงาน',\n",
       "       'ระบบปรับอากาศ',\n",
       "       'อุปกรณ์ภายนอก –ด้านหน้า: ดับเบิลแค็บ, กล้องด้านหน้า, เซ็นเซอร์ตรวจวัดน้ำฝน, ที่ปัดน้ำฝนและฉีดน้ำล้างกระจกหน้า, ไฟหน้าแบบแฮโลเจนไฟหน้าแบบ LED, เซ็นเซอร์ (สำหรับ FCM), ไฟเลี้ยวด้านหน้า, เซ็นเซอร์จอดรถหน้า, ไฟหรี่หน้า, ไฟหน้า, ไฟสูงต่ำหน้า, ไฟตัดหมอกด้านหน้า',\n",
       "       'โหมดการขับเคลื่อน 4 ล้อ',\n",
       "       'คาดเข็มขัดนิรภัย, เบรกมือ, เหยียบเบรก, เกียร์ธรรมดา, เกียร์อัตโนมัติ, ตรวจจับการทํางานของแป้น, สตาร์ทไม่ติด, แป้นคลัตช์, เกียร์ว่าง, ตำแหน่ง P',\n",
       "       'ความปลอดภัย (Safety)',\n",
       "       'น้ำมัน, ระดับน้ำมัน, แบตเตอรี่, สภาพแบตเตอรี่, การตรวจเช็ค, น้ำมันพวงมาลัยเพาเวอร์, ประเภทน้ำมัน, น้ำมันพาวเวอร์สตีริ่ง, อุปกรณ์ไฟฟ้า, การตรวจเช็คแบตเตอรี่, คำเตือน',\n",
       "       'อัตราการสิ้นเปลืองเชื้อเพลิง',\n",
       "       'แผงหน้าปัดและอุปกรณ์ควบคุม, ไฟแสดงการทำงาน, ไฟเตือน, รายการตัวแสดงบนหน้าจอ, หน้าจอแสดงข้อมูล, โหมดการขับเคลื่อน, ปัญหา, วิธีแก้ปัญหา',\n",
       "       'การปรับความเร็วมอเตอร์พัดลม, การปรับการควบคุมอุณหภูมิ, เครื่องปรับอากาศแบบควบคุมสภาพอากาศอัตโนมัติ, การควบคุมอุณหภูมิด้านคนขับและด้านผู้โดยสาร, เปิด/ปิดระบบปรับอากาศ, เปลี่ยนอากาศภายนอกและอากาศหมุนเวียนภายใน, ขับขี่ในสภาพอากาศภายนอกเป็นมลพิษ',\n",
       "       'ระบบ FCM'], dtype=object)"
      ]
     },
     "execution_count": 35,
     "metadata": {},
     "output_type": "execute_result"
    }
   ],
   "source": [
    "df.label.unique()"
   ]
  },
  {
   "cell_type": "code",
   "execution_count": null,
   "metadata": {},
   "outputs": [],
   "source": []
  }
 ],
 "metadata": {
  "kernelspec": {
   "display_name": "Python 3",
   "language": "python",
   "name": "python3"
  },
  "language_info": {
   "codemirror_mode": {
    "name": "ipython",
    "version": 3
   },
   "file_extension": ".py",
   "mimetype": "text/x-python",
   "name": "python",
   "nbconvert_exporter": "python",
   "pygments_lexer": "ipython3",
   "version": "3.10.9"
  }
 },
 "nbformat": 4,
 "nbformat_minor": 2
}
