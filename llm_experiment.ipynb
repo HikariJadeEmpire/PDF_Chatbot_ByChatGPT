{
 "cells": [
  {
   "cell_type": "code",
   "execution_count": 1,
   "metadata": {},
   "outputs": [],
   "source": [
    "import random\n",
    "\n",
    "# Modules to import\n",
    "\n",
    "from langchain.chat_models import ChatOpenAI\n",
    "from langchain.chains import ConversationalRetrievalChain, RetrievalQA\n",
    "from langchain.document_loaders import PyPDFLoader\n",
    "from langchain.embeddings.openai import OpenAIEmbeddings\n",
    "from langchain.memory import ConversationBufferMemory\n",
    "from langchain.text_splitter import RecursiveCharacterTextSplitter\n",
    "\n",
    "from langchain.vectorstores.faiss import FAISS\n",
    "\n",
    "import os\n",
    "from dotenv import load_dotenv, find_dotenv"
   ]
  },
  {
   "cell_type": "markdown",
   "metadata": {},
   "source": [
    "# Get OpenAI API KEY"
   ]
  },
  {
   "cell_type": "code",
   "execution_count": 2,
   "metadata": {},
   "outputs": [],
   "source": [
    "load_dotenv(find_dotenv()) # read local .env file\n",
    "api = os.getenv('OPENAI_API_KEY_H')"
   ]
  },
  {
   "cell_type": "markdown",
   "metadata": {},
   "source": [
    "# Split Chunk"
   ]
  },
  {
   "cell_type": "code",
   "execution_count": 6,
   "metadata": {},
   "outputs": [],
   "source": [
    "r_splitter = RecursiveCharacterTextSplitter(\n",
    "    chunk_size=600,\n",
    "    chunk_overlap=100,\n",
    "    separators=[\"\\n\\n\", \"\\n\", \"(?<=\\. )\", \" \", \"\"]\n",
    ")\n",
    "\n",
    "docs = []\n",
    "for loader in os.listdir(\"docs\"):\n",
    "    if loader is not None :\n",
    "        try :\n",
    "            docs.extend(PyPDFLoader(\"docs/\"+loader).load())\n",
    "        except Exception as e1 :\n",
    "            print(f\" [ Documents ERROR ] : {e1}\")\n",
    "    else : break"
   ]
  },
  {
   "cell_type": "code",
   "execution_count": 7,
   "metadata": {},
   "outputs": [
    {
     "data": {
      "text/plain": [
       "[Document(page_content='1-72 \\nสารบัญ \\nภาพโดยรวม /คู่มืออย่างง่าย         1 \\nข้อมูลทั่วไป           2 \\nการล็อกและการปลดล็อก         3 \\nเบาะนั่งและเข็มขัดนิรภัย          4 \\nแผงหน้าป้ดและอุปกรณ์ควบคุม         5 \\nการสตาร์ทและการขับขี่          6 \\nการใช้อุปกรณ์อํานวยความสะดวก       7 \\nเมื่อเกิดเหตุฉุกเฉิน          8 \\nการดูแลรักษาสภาพรถ          9 \\nการบํารุงรักษา          10 \\nข้อมูลจําเพาะ           11 \\n \\n \\n \\n \\n \\n \\n \\n \\n \\n \\n \\n \\n  \\n \\n \\n \\n \\n  \\n \\n \\n \\n \\n \\n \\n \\n \\n \\n ', metadata={'source': 'docs/Text_PDF_.pdf', 'page': 0}),\n",
       " Document(page_content=' \\n \\n \\n \\nแผงหน้าป้ดและอุปกรณ์ควบคุม (ด้านคนขับ ) \\nภาพโดยรวม /คู่มืออย่างง่าย 1-11 \\n- สวิตช์ที่ป้ดนํ้าฝนและฉีดนํ้าล้างกระจกหน้า 5-45 \\n- แผงหน้าป้ดหน้า5 -2 \\n- สวิตช์ควบคุมความสว่างของแผงหน้าป้ดหน้า5 -2 \\n- สวิตช์ระบบควบคุมเสถียรภาพการทรงตัว (ASC)OFF หน้า6-70 \\n- สวิตช์เซ็นทรัลล็อกหน้า 3-15 \\n- สวิตช์ควบคุมหน้าต่างไฟฟ้าหน้า 3-19 \\n- สวิตช์ล็อกหน้า 3-20 \\n- สวิตช์ไฟหน้าและไฟสูง-ตํ่าหน้า 5-40 \\n- สวิตช์ระบบปรับไฟสูงอัตโนมัติ (AHB)หน้า5-43 \\n- คันสวิตช์ไฟเลี้ยวหน้า 5-44 \\n- สวิตช์ไฟตัดหมอกด้านหน้าหน้า 5-45 \\n- สวิตช์หน้าจอแสดงข้อมูลรวมหน้า 5-4 \\n- สวิตช์ควบคุมเครื่องเสียงบนพวงมาลัยให้ดูคู่มือการใช้งานแยกต่างหากสวิตช์เครื่องยนต์หน้า 6-13 \\n- ถุงลมนิรภัย SRSด้านคนขับหน้า 4-22,4-26 \\n- สวิตช์แตรหน้า 5-50 \\n- สวิตช์แฮนด์ฟรีสวิตช์ระบบการรู้จําเสียงให้ดูคู่มือการใช้งานแยกต่างหากที่วางแก้วหน้า 7-31 \\n- สวิตช์AutoStop&Go(AS&G)OFFหน้า 6-27 \\n- สวิตช์กุญแจหน้า 6-11 \\n- ที่เปิดฝากระโปรงหน้า 10-3 \\n- รีโมทไฟฟ้า-ควบคุมกระจกมองข้างหน้า 6-8 \\n- คันปลดล็อกฝาปิดถังนํ้ามันเชื้อเพลิงหน้า 2-2 \\n*รวมถึงความแตกต่างในข้อมูลจําเพาะของอุปกรณ์และตัวเลือกของผู้ผลิตด้วย  \\n \\n \\n \\n \\n \\n \\n \\n \\n \\n \\n \\n \\n \\n \\n \\n ', metadata={'source': 'docs/Text_PDF_.pdf', 'page': 1})]"
      ]
     },
     "execution_count": 7,
     "metadata": {},
     "output_type": "execute_result"
    }
   ],
   "source": [
    "docs[:2]"
   ]
  },
  {
   "cell_type": "markdown",
   "metadata": {},
   "source": [
    "# Vector Database"
   ]
  },
  {
   "cell_type": "code",
   "execution_count": 8,
   "metadata": {},
   "outputs": [],
   "source": [
    "splits = r_splitter.split_documents(docs)\n",
    "\n",
    "db = FAISS.from_documents( splits, OpenAIEmbeddings( api_key = api ) )"
   ]
  },
  {
   "cell_type": "code",
   "execution_count": 9,
   "metadata": {},
   "outputs": [
    {
     "data": {
      "text/plain": [
       "Document(page_content='ข้อควรระวัง  \\n● การเลือกตําแหน่ง  “4H” หรือ “4L” (Easy Select 4WD), ตําแหน่ง  “4HLc” หรือ  “4LLc” (Super Select \\n4WD II) เพื่อขับขี่บนถนนลาดยางแห้งจะสิ้นเปลืองนํ้ามันเชื้อเพลิงมากขึ้น  และอาจเกิดเสียงรวมถึงทําให้ยางสึกหรอเร็ว \\nนอกจากนี้ยังอาจทําให้อุณหภูมิของนํ้ามันเฟืองท้ายสูงกว่าปกติซึ่งจะทําให้ระบบขับเคลื่อนเสียหาย  \\nยิ่งไปกว่านั้น  ระบบส่งกําลังต้องรับภาระในการขับเคลื่อนมากเกินไป  มีผลทําให้นํ้ามันรั่วซึม  เกิดความร้อนจัด หรือเกิดปัญหาร้ายแรงอื่นๆ \\nได้ \\n \\nการขับขี่บนถนนที่หิมะอัดแน่น  \\nE00646500149', metadata={'source': 'docs/Text_PDF_.pdf', 'page': 191})"
      ]
     },
     "execution_count": 9,
     "metadata": {},
     "output_type": "execute_result"
    }
   ],
   "source": [
    "splits[random.randint(0,len(splits))]"
   ]
  },
  {
   "cell_type": "markdown",
   "metadata": {},
   "source": [
    "# CHAT"
   ]
  },
  {
   "cell_type": "code",
   "execution_count": 10,
   "metadata": {},
   "outputs": [],
   "source": [
    "# Memory\n",
    "\n",
    "memory = ConversationBufferMemory(\n",
    "    memory_key=\"chat_history\",\n",
    "    return_messages=True,\n",
    "    output_key='answer',\n",
    ")"
   ]
  },
  {
   "cell_type": "code",
   "execution_count": 11,
   "metadata": {},
   "outputs": [],
   "source": [
    "model_lists = [ \"gpt-3.5-turbo\", 'gpt-4-1106-preview', \"gpt-4\", ]\n",
    "\n",
    "llm = ChatOpenAI( api_key = api, model_name = model_lists[0], temperature = 0 )"
   ]
  },
  {
   "cell_type": "code",
   "execution_count": 34,
   "metadata": {},
   "outputs": [],
   "source": [
    "# qa = RetrievalQA.from_chain_type(\n",
    "#     llm,\n",
    "#     retriever=db.as_retriever(search_type=\"similarity\", search_kwargs={\"k\": 1}),\n",
    "#     chain_type=\"map_reduce\",\n",
    "#     return_source_documents = True,\n",
    "# )"
   ]
  },
  {
   "cell_type": "code",
   "execution_count": 12,
   "metadata": {},
   "outputs": [],
   "source": [
    "memory.clear()"
   ]
  },
  {
   "cell_type": "code",
   "execution_count": 13,
   "metadata": {},
   "outputs": [],
   "source": [
    "qa = ConversationalRetrievalChain.from_llm(\n",
    "            llm = llm,\n",
    "            retriever = db.as_retriever(search_type=\"similarity\", search_kwargs={\"k\": 3}),\n",
    "            memory = memory,\n",
    "            return_source_documents = True,\n",
    "            return_generated_question = True,\n",
    "        )"
   ]
  },
  {
   "cell_type": "markdown",
   "metadata": {},
   "source": [
    "## Get answer (Testing)"
   ]
  },
  {
   "cell_type": "code",
   "execution_count": 14,
   "metadata": {},
   "outputs": [
    {
     "name": "stdout",
     "output_type": "stream",
     "text": [
      "context : หมายเหตุ  \n",
      "● หากคุณยังคงกดสวิตช์  “ASC OFF” ค้างไว้หลังจากที่ฟังก์ชันควบคุมเสถียรภาพปิดไปแล้ว  “ฟังก\n",
      "page : 210\n",
      "\n",
      "\n",
      "dict_keys(['question', 'chat_history', 'answer', 'source_documents', 'generated_question'])\n",
      "\n",
      "\n",
      "Question :\n",
      "\n",
      "context : 'หมายเหตุ  \n",
      "● หากคุณยังคงกดสวิตช์  “ASC OFF” ค้างไว้หลังจากที่ฟังก์ชันควบคุมเสถียรภาพปิดไปแล้ว  “ฟังก์ชันป้องกันการทํางานผิดพลาด ” \n",
      "จะทํางานและเปิดฟังก์ชันควบคุมเสถียรภาพอีกครั้ง  \n",
      "● แม้จะปิดฟังก์ชันควบคุมเสถียรภาพไปแล้ว  แต่ฟังก์ชันนี้อาจกลับมาทํางานได้โดยขึ้นอยู่กับการเคลื่อนไหวของรถ  \n",
      " \n",
      "ฟังก์ชันควบคุมการออกตัวและการเข้าโค้ง  \n",
      "E00617001048 \n",
      "ฟังก์ชันควบคุมการออกตัวและการเข้าโค้งป้องกันไม่ให้ล้อหมุนมากเกินไปบนถนนลื่นและช่วยให้รถที่หยุดอยู่ออกตัวได้  \n",
      "นอกจากนี้ยังให้กําลังการขับเคลื่อนที่เพียงพอและทําให้การหมุนพวงมาลัยมีประสิทธิภาพเมื่อรถเลี้ยวขณะเหยียบคันเร่ง \n",
      " \n",
      "ข้อควรระวัง'\n",
      "Create 1 question using only the context provided.\n",
      "End each question with a '?' character.\n",
      "You must answer the question by refer to the context as much as you can.\n",
      "Separate question/answer by a newline.\n",
      "the question and the answer should be thai language.\n",
      "\n",
      "\n",
      "Answer :\n",
      "ฟังก์ชันควบคุมการออกตัวและการเข้าโค้งมีประโยชน์อย่างไร?\n",
      "\n",
      "Source :\n",
      "Page : {'source': 'docs/Text_PDF_.pdf', 'page': 209}\n",
      "Content : หมายเหตุ  \n",
      "● หากคุณยังคงกดสวิตช์  “ASC OFF” ค้างไว้หลังจากที่ฟังก์ชันควบคุมเสถียรภาพปิดไปแล้ว  “ฟังก์ชันป้องกันการทํางานผิดพลาด ” \n",
      "จะทํางานและเปิดฟังก์ชันควบคุมเสถียรภาพอีกครั้ง  \n",
      "● แม้จะปิดฟังก์ชันควบคุมเสถียรภาพไปแล้ว  แต่ฟังก์ชันนี้อาจกลับมาทํางานได้โดยขึ้นอยู่กับการเคลื่อนไหวของรถ  \n",
      " \n",
      "ฟังก์ชันควบคุมการออกตัวและการเข้าโค้ง  \n",
      "E00617001048 \n",
      "ฟังก์ชันควบคุมการออกตัวและการเข้าโค้งป้องกันไม่ให้ล้อหมุนมากเกินไปบนถนนลื่นและช่วยให้รถที่หยุดอยู่ออกตัวได้  \n",
      "นอกจากนี้ยังให้กําลังการขับเคลื่อนที่เพียงพอและทําให้การหมุนพวงมาลัยมีประสิทธิภาพเมื่อรถเลี้ยวขณะเหยียบคันเร่ง \n",
      " \n",
      "ข้อควรระวัง\n"
     ]
    }
   ],
   "source": [
    "ran = splits[random.randint(0,len(splits))]\n",
    "\n",
    "prompt = f\"\"\"\n",
    "context : '{ran.page_content}'\n",
    "Create 1 question using only the context provided.\n",
    "End each question with a '?' character.\n",
    "You must answer the question by refer to the context as much as you can.\n",
    "Separate question/answer by a newline.\n",
    "the question and the answer should be thai language.\n",
    "\"\"\"\n",
    "\n",
    "# Test\n",
    "result = qa({\"question\": prompt})\n",
    "\n",
    "print(f\"context : {(ran.page_content)[:100]}\\npage : {(ran.metadata)['page']+1}\\n\\n\")\n",
    "\n",
    "print(f\"{result.keys()}\\n\\n\")\n",
    "print(f\"Question :\\n{result['generated_question']}\\n\\nAnswer :\\n{result['answer']}\\n\\nSource :\\nPage : {(result['source_documents'])[0].metadata}\\nContent : {(result['source_documents'])[0].page_content}\")"
   ]
  },
  {
   "cell_type": "code",
   "execution_count": 15,
   "metadata": {},
   "outputs": [
    {
     "data": {
      "text/plain": [
       "210"
      ]
     },
     "execution_count": 15,
     "metadata": {},
     "output_type": "execute_result"
    }
   ],
   "source": [
    "((result['source_documents'])[0].metadata)['page']+1"
   ]
  },
  {
   "cell_type": "code",
   "execution_count": 14,
   "metadata": {},
   "outputs": [],
   "source": [
    "# del result"
   ]
  },
  {
   "cell_type": "markdown",
   "metadata": {},
   "source": [
    "# Prepare_dataset"
   ]
  },
  {
   "cell_type": "code",
   "execution_count": 16,
   "metadata": {},
   "outputs": [
    {
     "data": {
      "text/html": [
       "<div>\n",
       "<style scoped>\n",
       "    .dataframe tbody tr th:only-of-type {\n",
       "        vertical-align: middle;\n",
       "    }\n",
       "\n",
       "    .dataframe tbody tr th {\n",
       "        vertical-align: top;\n",
       "    }\n",
       "\n",
       "    .dataframe thead th {\n",
       "        text-align: right;\n",
       "    }\n",
       "</style>\n",
       "<table border=\"1\" class=\"dataframe\">\n",
       "  <thead>\n",
       "    <tr style=\"text-align: right;\">\n",
       "      <th></th>\n",
       "      <th>questions</th>\n",
       "      <th>answer</th>\n",
       "      <th>doc_page</th>\n",
       "      <th>doc_content</th>\n",
       "      <th>doc_source</th>\n",
       "    </tr>\n",
       "  </thead>\n",
       "  <tbody>\n",
       "    <tr>\n",
       "      <th>48</th>\n",
       "      <td>ไฟแสดงการทำงานของโหมดการขับเคลื่อน 4 ล้อจะแสดง...</td>\n",
       "      <td>ไฟแสดงการทำงานของโหมดการขับเคลื่อน 4 ล้อจะแสดง...</td>\n",
       "      <td>206</td>\n",
       "      <td>: กะพริบ (ตัวแสดงโหมดการขับเคลื่อน4 ล้อกะพริบด...</td>\n",
       "      <td>docs/Text_PDF_.pdf</td>\n",
       "    </tr>\n",
       "    <tr>\n",
       "      <th>49</th>\n",
       "      <td>เมื่อขับรถอยู่บนทางลาดชันควรสตาร์ทเครื่องยนต์ใ...</td>\n",
       "      <td>ควรสตาร์ทเครื่องยนต์ในตำแหน่ง \"P\" (จอด) เมื่อข...</td>\n",
       "      <td>184</td>\n",
       "      <td>คําเตือน ●ห้ามเลื่อนคันเกียร์ไปที่ตําแหน่ง “N”...</td>\n",
       "      <td>docs/Text_PDF_.pdf</td>\n",
       "    </tr>\n",
       "    <tr>\n",
       "      <th>50</th>\n",
       "      <td>ขนาดกระบอกสูบของรถคือเท่าไหร่?</td>\n",
       "      <td>ขนาดกระบอกสูบของรถคือ 86.0 มม.</td>\n",
       "      <td>355</td>\n",
       "      <td>จํานวนกระบอกสูบ : สูบเรียง 4 สูบ ปริมาตรกระบอก...</td>\n",
       "      <td>docs/Text_PDF_.pdf</td>\n",
       "    </tr>\n",
       "  </tbody>\n",
       "</table>\n",
       "</div>"
      ],
      "text/plain": [
       "                                            questions  \\\n",
       "48  ไฟแสดงการทำงานของโหมดการขับเคลื่อน 4 ล้อจะแสดง...   \n",
       "49  เมื่อขับรถอยู่บนทางลาดชันควรสตาร์ทเครื่องยนต์ใ...   \n",
       "50                     ขนาดกระบอกสูบของรถคือเท่าไหร่?   \n",
       "\n",
       "                                               answer  doc_page  \\\n",
       "48  ไฟแสดงการทำงานของโหมดการขับเคลื่อน 4 ล้อจะแสดง...       206   \n",
       "49  ควรสตาร์ทเครื่องยนต์ในตำแหน่ง \"P\" (จอด) เมื่อข...       184   \n",
       "50                     ขนาดกระบอกสูบของรถคือ 86.0 มม.       355   \n",
       "\n",
       "                                          doc_content          doc_source  \n",
       "48  : กะพริบ (ตัวแสดงโหมดการขับเคลื่อน4 ล้อกะพริบด...  docs/Text_PDF_.pdf  \n",
       "49  คําเตือน ●ห้ามเลื่อนคันเกียร์ไปที่ตําแหน่ง “N”...  docs/Text_PDF_.pdf  \n",
       "50  จํานวนกระบอกสูบ : สูบเรียง 4 สูบ ปริมาตรกระบอก...  docs/Text_PDF_.pdf  "
      ]
     },
     "execution_count": 16,
     "metadata": {},
     "output_type": "execute_result"
    }
   ],
   "source": [
    "import pandas as pd\n",
    "\n",
    "df = pd.read_csv(\"rerank_dataset.csv\", index_col=0)\n",
    "\n",
    "df.tail(3)"
   ]
  },
  {
   "cell_type": "code",
   "execution_count": 17,
   "metadata": {},
   "outputs": [],
   "source": [
    "rerank_df = {\"questions\":[], \"answer\":[], \"doc_page\":[], \"doc_content\":[], \"doc_source\":[]}"
   ]
  },
  {
   "cell_type": "code",
   "execution_count": 18,
   "metadata": {},
   "outputs": [],
   "source": [
    "for i in range(51):\n",
    "    ran = splits[random.randint(0,len(splits))]\n",
    "    prompt = f\"\"\"\n",
    "context : '{ran.page_content}'\n",
    "Create 1 question using only the context provided.\n",
    "End each question with a '?' character.\n",
    "You must answer the question by refer to the context as much as you can.\n",
    "Separate question/answer by a newline.\n",
    "the question and the answer should be thai language.\n",
    "\"\"\"\n",
    "    try :\n",
    "        result = qa({\"question\": prompt})\n",
    "        \n",
    "        rerank_df[\"answer\"].append(result['answer'])\n",
    "        rerank_df[\"questions\"].append(result['generated_question'])\n",
    "        rerank_df[\"doc_content\"].append(ran.page_content)\n",
    "        rerank_df[\"doc_page\"].append( (ran.metadata)['page']+1 )\n",
    "        rerank_df[\"doc_source\"].append( (ran.metadata)['source'] )\n",
    "        \n",
    "    except :\n",
    "        memory.clear()\n",
    "        result = qa({\"question\": prompt})\n",
    " "
   ]
  },
  {
   "cell_type": "code",
   "execution_count": 19,
   "metadata": {},
   "outputs": [
    {
     "name": "stdout",
     "output_type": "stream",
     "text": [
      "number of dataset : 42\n",
      "\n",
      "\n"
     ]
    },
    {
     "data": {
      "text/html": [
       "<div>\n",
       "<style scoped>\n",
       "    .dataframe tbody tr th:only-of-type {\n",
       "        vertical-align: middle;\n",
       "    }\n",
       "\n",
       "    .dataframe tbody tr th {\n",
       "        vertical-align: top;\n",
       "    }\n",
       "\n",
       "    .dataframe thead th {\n",
       "        text-align: right;\n",
       "    }\n",
       "</style>\n",
       "<table border=\"1\" class=\"dataframe\">\n",
       "  <thead>\n",
       "    <tr style=\"text-align: right;\">\n",
       "      <th></th>\n",
       "      <th>questions</th>\n",
       "      <th>answer</th>\n",
       "      <th>doc_page</th>\n",
       "      <th>doc_content</th>\n",
       "      <th>doc_source</th>\n",
       "    </tr>\n",
       "  </thead>\n",
       "  <tbody>\n",
       "    <tr>\n",
       "      <th>39</th>\n",
       "      <td>ต้องทำอย่างไรเมื่อความเร็วรถลดลงต่ำกว่าประมาณ ...</td>\n",
       "      <td>เมื่อความเร็วรถลดลงต่ำกว่าประมาณ 30 กม./ชม., ค...</td>\n",
       "      <td>127</td>\n",
       "      <td>แผงหน้าปัดและอุปกรณ์ควบคุม  5  \\nคันสวิตช์ไฟเล...</td>\n",
       "      <td>docs/Text_PDF_.pdf</td>\n",
       "    </tr>\n",
       "    <tr>\n",
       "      <th>40</th>\n",
       "      <td>ระบบ FCM อาจไม่ทำงานในสภาวะใดบ้าง?</td>\n",
       "      <td>ระบบ FCM อาจไม่ทำงานในสภาวะดังต่อไปนี้:\\n- รถค...</td>\n",
       "      <td>213</td>\n",
       "      <td>○ ระบบ FCM อาจไม่ทํางานหากรถคันหน้ามีลักษณะแคบ...</td>\n",
       "      <td>docs/Text_PDF_.pdf</td>\n",
       "    </tr>\n",
       "    <tr>\n",
       "      <th>41</th>\n",
       "      <td>ตัวแสดงโหมดการขับเคลื่อน 4 ล้อแสดงสถานะการเปลี...</td>\n",
       "      <td>ตัวแสดงโหมดการขับเคลื่อน 4 ล้อจะสว่างตามตำแหน่...</td>\n",
       "      <td>180</td>\n",
       "      <td>ตัวแสดงโหมดการขับเคลื่อน  4 ล้อและตัวแสดงการทํ...</td>\n",
       "      <td>docs/Text_PDF_.pdf</td>\n",
       "    </tr>\n",
       "  </tbody>\n",
       "</table>\n",
       "</div>"
      ],
      "text/plain": [
       "                                            questions  \\\n",
       "39  ต้องทำอย่างไรเมื่อความเร็วรถลดลงต่ำกว่าประมาณ ...   \n",
       "40                 ระบบ FCM อาจไม่ทำงานในสภาวะใดบ้าง?   \n",
       "41  ตัวแสดงโหมดการขับเคลื่อน 4 ล้อแสดงสถานะการเปลี...   \n",
       "\n",
       "                                               answer  doc_page  \\\n",
       "39  เมื่อความเร็วรถลดลงต่ำกว่าประมาณ 30 กม./ชม., ค...       127   \n",
       "40  ระบบ FCM อาจไม่ทำงานในสภาวะดังต่อไปนี้:\\n- รถค...       213   \n",
       "41  ตัวแสดงโหมดการขับเคลื่อน 4 ล้อจะสว่างตามตำแหน่...       180   \n",
       "\n",
       "                                          doc_content          doc_source  \n",
       "39  แผงหน้าปัดและอุปกรณ์ควบคุม  5  \\nคันสวิตช์ไฟเล...  docs/Text_PDF_.pdf  \n",
       "40  ○ ระบบ FCM อาจไม่ทํางานหากรถคันหน้ามีลักษณะแคบ...  docs/Text_PDF_.pdf  \n",
       "41  ตัวแสดงโหมดการขับเคลื่อน  4 ล้อและตัวแสดงการทํ...  docs/Text_PDF_.pdf  "
      ]
     },
     "execution_count": 19,
     "metadata": {},
     "output_type": "execute_result"
    }
   ],
   "source": [
    "r_df = pd.DataFrame.from_dict(rerank_df)\n",
    "\n",
    "print(f\"number of dataset : {len(r_df)}\\n\\n\")\n",
    "r_df.tail(3)"
   ]
  },
  {
   "cell_type": "code",
   "execution_count": 20,
   "metadata": {},
   "outputs": [
    {
     "name": "stdout",
     "output_type": "stream",
     "text": [
      "number of dataset : 93\n",
      "\n",
      "\n"
     ]
    },
    {
     "data": {
      "text/html": [
       "<div>\n",
       "<style scoped>\n",
       "    .dataframe tbody tr th:only-of-type {\n",
       "        vertical-align: middle;\n",
       "    }\n",
       "\n",
       "    .dataframe tbody tr th {\n",
       "        vertical-align: top;\n",
       "    }\n",
       "\n",
       "    .dataframe thead th {\n",
       "        text-align: right;\n",
       "    }\n",
       "</style>\n",
       "<table border=\"1\" class=\"dataframe\">\n",
       "  <thead>\n",
       "    <tr style=\"text-align: right;\">\n",
       "      <th></th>\n",
       "      <th>questions</th>\n",
       "      <th>answer</th>\n",
       "      <th>doc_page</th>\n",
       "      <th>doc_content</th>\n",
       "      <th>doc_source</th>\n",
       "    </tr>\n",
       "  </thead>\n",
       "  <tbody>\n",
       "    <tr>\n",
       "      <th>90</th>\n",
       "      <td>ต้องทำอย่างไรเมื่อความเร็วรถลดลงต่ำกว่าประมาณ ...</td>\n",
       "      <td>เมื่อความเร็วรถลดลงต่ำกว่าประมาณ 30 กม./ชม., ค...</td>\n",
       "      <td>127</td>\n",
       "      <td>แผงหน้าปัดและอุปกรณ์ควบคุม  5  \\nคันสวิตช์ไฟเล...</td>\n",
       "      <td>docs/Text_PDF_.pdf</td>\n",
       "    </tr>\n",
       "    <tr>\n",
       "      <th>91</th>\n",
       "      <td>ระบบ FCM อาจไม่ทำงานในสภาวะใดบ้าง?</td>\n",
       "      <td>ระบบ FCM อาจไม่ทำงานในสภาวะดังต่อไปนี้:\\n- รถค...</td>\n",
       "      <td>213</td>\n",
       "      <td>○ ระบบ FCM อาจไม่ทํางานหากรถคันหน้ามีลักษณะแคบ...</td>\n",
       "      <td>docs/Text_PDF_.pdf</td>\n",
       "    </tr>\n",
       "    <tr>\n",
       "      <th>92</th>\n",
       "      <td>ตัวแสดงโหมดการขับเคลื่อน 4 ล้อแสดงสถานะการเปลี...</td>\n",
       "      <td>ตัวแสดงโหมดการขับเคลื่อน 4 ล้อจะสว่างตามตำแหน่...</td>\n",
       "      <td>180</td>\n",
       "      <td>ตัวแสดงโหมดการขับเคลื่อน  4 ล้อและตัวแสดงการทํ...</td>\n",
       "      <td>docs/Text_PDF_.pdf</td>\n",
       "    </tr>\n",
       "  </tbody>\n",
       "</table>\n",
       "</div>"
      ],
      "text/plain": [
       "                                            questions  \\\n",
       "90  ต้องทำอย่างไรเมื่อความเร็วรถลดลงต่ำกว่าประมาณ ...   \n",
       "91                 ระบบ FCM อาจไม่ทำงานในสภาวะใดบ้าง?   \n",
       "92  ตัวแสดงโหมดการขับเคลื่อน 4 ล้อแสดงสถานะการเปลี...   \n",
       "\n",
       "                                               answer  doc_page  \\\n",
       "90  เมื่อความเร็วรถลดลงต่ำกว่าประมาณ 30 กม./ชม., ค...       127   \n",
       "91  ระบบ FCM อาจไม่ทำงานในสภาวะดังต่อไปนี้:\\n- รถค...       213   \n",
       "92  ตัวแสดงโหมดการขับเคลื่อน 4 ล้อจะสว่างตามตำแหน่...       180   \n",
       "\n",
       "                                          doc_content          doc_source  \n",
       "90  แผงหน้าปัดและอุปกรณ์ควบคุม  5  \\nคันสวิตช์ไฟเล...  docs/Text_PDF_.pdf  \n",
       "91  ○ ระบบ FCM อาจไม่ทํางานหากรถคันหน้ามีลักษณะแคบ...  docs/Text_PDF_.pdf  \n",
       "92  ตัวแสดงโหมดการขับเคลื่อน  4 ล้อและตัวแสดงการทํ...  docs/Text_PDF_.pdf  "
      ]
     },
     "metadata": {},
     "output_type": "display_data"
    }
   ],
   "source": [
    "df = pd.concat([df, r_df], \n",
    "                  ignore_index = True)\n",
    "\n",
    "print(f\"number of dataset : {len(df)}\\n\\n\")\n",
    "display(df.tail(3))"
   ]
  },
  {
   "cell_type": "code",
   "execution_count": 21,
   "metadata": {},
   "outputs": [],
   "source": [
    "df.to_csv(\"rerank_dataset.csv\")"
   ]
  }
 ],
 "metadata": {
  "kernelspec": {
   "display_name": "Python 3",
   "language": "python",
   "name": "python3"
  },
  "language_info": {
   "codemirror_mode": {
    "name": "ipython",
    "version": 3
   },
   "file_extension": ".py",
   "mimetype": "text/x-python",
   "name": "python",
   "nbconvert_exporter": "python",
   "pygments_lexer": "ipython3",
   "version": "3.10.9"
  }
 },
 "nbformat": 4,
 "nbformat_minor": 2
}
