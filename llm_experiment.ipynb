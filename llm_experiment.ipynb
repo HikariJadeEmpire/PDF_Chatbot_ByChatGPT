{
 "cells": [
  {
   "cell_type": "code",
   "execution_count": 1,
   "metadata": {},
   "outputs": [],
   "source": [
    "# Modules to import\n",
    "\n",
    "from langchain.chat_models import ChatOpenAI\n",
    "from langchain.chains import ConversationalRetrievalChain\n",
    "from langchain.document_loaders import PyPDFLoader\n",
    "from langchain.embeddings.openai import OpenAIEmbeddings\n",
    "from langchain.memory import ConversationBufferMemory\n",
    "from langchain.text_splitter import RecursiveCharacterTextSplitter\n",
    "\n",
    "from langchain.vectorstores.faiss import FAISS\n",
    "\n",
    "import os\n",
    "from dotenv import load_dotenv, find_dotenv"
   ]
  },
  {
   "cell_type": "markdown",
   "metadata": {},
   "source": [
    "# Get OpenAI API KEY"
   ]
  },
  {
   "cell_type": "code",
   "execution_count": 2,
   "metadata": {},
   "outputs": [],
   "source": [
    "load_dotenv(find_dotenv()) # read local .env file\n",
    "api = os.getenv('OPENAI_API_KEY_H')"
   ]
  },
  {
   "cell_type": "markdown",
   "metadata": {},
   "source": [
    "# Split Chunk"
   ]
  },
  {
   "cell_type": "code",
   "execution_count": 3,
   "metadata": {},
   "outputs": [],
   "source": [
    "r_splitter = RecursiveCharacterTextSplitter(\n",
    "    chunk_size=1200,\n",
    "    chunk_overlap=300,\n",
    "    separators=[\"\\n\\n\", \"\\n\", \"(?<=\\. )\", \" \", \"\"]\n",
    ")\n",
    "\n",
    "docs = []\n",
    "for loader in os.listdir(\"docs\"):\n",
    "    if loader is not None :\n",
    "        try :\n",
    "            docs.extend(PyPDFLoader(\"docs/\"+loader).load())\n",
    "        except Exception as e1 :\n",
    "            print(f\" [ Documents ERROR ] : {e1}\")\n",
    "    else : break"
   ]
  },
  {
   "cell_type": "code",
   "execution_count": 4,
   "metadata": {},
   "outputs": [
    {
     "data": {
      "text/plain": [
       "[Document(page_content='1-72 สารบัญ ภาพโดยรวม/คู่มืออย่างง่าย        1 ข้อมูลทั่วไป          2 การล็อกและการปลดล็อก        3 เบาะนั่งและเข็มขัดนิรภัย         4 แผงหน้าป้ดและอุปกรณ์ควบคุม        5 การสตาร์ทและการขับขี่         6 การใช้อุปกรณ์อํานวยความสะดวก       7 เมื่อเกิดเหตุฉุกเฉิน         8 การดูแลรักษาสภาพรถ         9 การบํารุงรักษา          10 ข้อมูลจําเพาะ          11 ', metadata={'source': 'docs/Text_PDF_.pdf', 'page': 0}),\n",
       " Document(page_content='แผงหน้าป้ดและอุปกรณ์ควบคุม(ด้านคนขับ) ภาพโดยรวม/คู่มืออย่างง่าย1-11 - สวิตช์ที่ป้ดนํ้าฝนและฉีดนํ้าล้างกระจกหน้า5-45 - แผงหน้าป้ดหน้า5-2 - สวิตช์ควบคุมความสว่างของแผงหน้าป้ดหน้า5-2 - สวิตช์ระบบควบคุมเสถียรภาพการทรงตัว(ASC)OFFหน้า6-70 - สวิตช์เซ็นทรัลล็อกหน้า3-15 - สวิตช์ควบคุมหน้าต่างไฟฟ้าหน้า3-19 - สวิตช์ล็อกหน้า3-20 - สวิตช์ไฟหน้าและไฟสูง-ตํ่าหน้า5-40 - สวิตช์ระบบปรับไฟสูงอัตโนมัติ(AHB)หน้า5-43 - คันสวิตช์ไฟเลี้ยวหน้า5-44 - สวิตช์ไฟตัดหมอกด้านหน้าหน้า5-45 - สวิตช์หน้าจอแสดงข้อมูลรวมหน้า5-4 - สวิตช์ควบคุมเครื่องเสียงบนพวงมาลัยให้ดูคู่มือการใช้งานแยกต่างหากสวิตช์เครื่องยนต์หน้า6-13 - ถุงลมนิรภัยSRSด้านคนขับหน้า4-22,4-26 - สวิตช์แตรหน้า5-50 - สวิตช์แฮนด์ฟรีสวิตช์ระบบการรู้จําเสียงให้ดูคู่มือการใช้งานแยกต่างหากที่วางแก้วหน้า7-31 - สวิตช์AutoStop&Go(AS&G)OFFหน้า6-27 - สวิตช์กุญแจหน้า6-11 - ที่เปิดฝากระโปรงหน้า10-3 - รีโมทไฟฟ้า-ควบคุมกระจกมองข้างหน้า6-8 - คันปลดล็อกฝาปิดถังนํ้ามันเชื้อเพลิงหน้า2-2 *รวมถึงความแตกต่างในข้อมูลจําเพาะของอุปกรณ์และตัวเลือกของผู้ผลิตด้วย ', metadata={'source': 'docs/Text_PDF_.pdf', 'page': 1})]"
      ]
     },
     "execution_count": 4,
     "metadata": {},
     "output_type": "execute_result"
    }
   ],
   "source": [
    "docs[:2]"
   ]
  },
  {
   "cell_type": "markdown",
   "metadata": {},
   "source": [
    "# Vector Database"
   ]
  },
  {
   "cell_type": "code",
   "execution_count": 5,
   "metadata": {},
   "outputs": [],
   "source": [
    "splits = r_splitter.split_documents(docs)\n",
    "\n",
    "db = FAISS.from_documents( splits, OpenAIEmbeddings( api_key = api ) )"
   ]
  },
  {
   "cell_type": "markdown",
   "metadata": {},
   "source": [
    "# CHAT"
   ]
  },
  {
   "cell_type": "code",
   "execution_count": 6,
   "metadata": {},
   "outputs": [],
   "source": [
    "# Memory\n",
    "\n",
    "memory = ConversationBufferMemory(\n",
    "    memory_key=\"chat_history\",\n",
    "    return_messages=True,\n",
    "    output_key='answer',\n",
    ")"
   ]
  },
  {
   "cell_type": "code",
   "execution_count": 7,
   "metadata": {},
   "outputs": [],
   "source": [
    "model_lists = [ \"gpt-3.5-turbo\", 'gpt-4-1106-preview', \"gpt-4\", ]\n",
    "\n",
    "llm = ChatOpenAI( api_key = api, model_name = model_lists[0], temperature = 0 )"
   ]
  },
  {
   "cell_type": "code",
   "execution_count": 8,
   "metadata": {},
   "outputs": [],
   "source": [
    "qa = ConversationalRetrievalChain.from_llm(\n",
    "            llm = llm,\n",
    "            retriever = db.as_retriever(search_type=\"mmr\", search_kwargs={\"k\": 2}),\n",
    "            memory = memory,\n",
    "            return_source_documents = True,\n",
    "            return_generated_question = True,\n",
    "        )"
   ]
  },
  {
   "cell_type": "markdown",
   "metadata": {},
   "source": [
    "# Create Prompt"
   ]
  },
  {
   "cell_type": "code",
   "execution_count": 12,
   "metadata": {},
   "outputs": [],
   "source": [
    "num_questions = 3\n",
    "prompt = f\"\"\"\n",
    "Create {num_questions} questions using only the context provided in the same language as documents.\n",
    "End each question with a '?' character and then in a newline write the answer to that question using only the context provided.\n",
    "Separate each question/answer pair by a newline.\n",
    "\"\"\""
   ]
  },
  {
   "cell_type": "markdown",
   "metadata": {},
   "source": [
    "# Get answer"
   ]
  },
  {
   "cell_type": "code",
   "execution_count": 10,
   "metadata": {},
   "outputs": [],
   "source": [
    "result = qa({\"question\": prompt})"
   ]
  },
  {
   "cell_type": "code",
   "execution_count": 25,
   "metadata": {},
   "outputs": [
    {
     "name": "stdout",
     "output_type": "stream",
     "text": [
      "Answer :\n",
      "1. What does the display show when the \"NORMAL\" mode of the driving mode is selected? \n",
      "The display shows the cause and the solution to the problem. (Refer to page 6-47)\n",
      "\n",
      "2. What does the display show when the \"ROCK\" mode of the driving mode is selected? \n",
      "The display shows the cause and the solution to the problem. (Refer to page 6-47)\n",
      "\n",
      "3. What does the display show when the \"MUD\" mode of the driving mode is selected? \n",
      "The display shows the cause and the solution to the problem. (Refer to page 6-47)\n",
      "\n",
      "Source :\n",
      "Page : {'source': 'docs/Text_PDF_.pdf', 'page': 121}\n",
      "Content : แผงหน้าปัดและอุปกรณ์ควบคุม 5  ไฟแสดงการทํางาน ไฟเตือน และรายการตัวแสดงบนหน้าจอแสดงข้อมูล (หน้าจอแสดงข้อมูลรวม - แบบที่ 1) 5-32  หน้าจอ: สาเหตุ: เมื่อเลือกโหมด “NORMAL” ของโหมดการขับเคลื่อน  วิธีแก้ป้ญหา (อ้างอิง): ให้ดูเรื่อง “โหมดการขับเคลื่อน” หน้า 6-47   หน้าจอ: สาเหตุ: เมื่อเลือกโหมด “ROCK” ของโหมดการขับเคลื่อน  วิธีแก้ป้ญหา (อ้างอิง): ให้ดูเรื่อง “โหมดการขับเคลื่อน” หน้า 6-47   หน้าจอ: สาเหตุ: เมื่อเลือกโหมด “MUD” ของโหมดการขับเคลื่อน  วิธีแก้ป้ญหา (อ้างอิง): ให้ดูเรื่อง “โหมดการขับเคลื่อน” หน้า 6-47  หน้าจอ: สาเหตุ: เมื่อเลือกโหมด “SAND” ของโหมดการขับเคลื่อน  วิธีแก้ป้ญหา (อ้างอิง): ให้ดูเรื่อง “โหมดการขับเคลื่อน” หน้า 6-47   หน้าจอ: สาเหตุ: เมื่อเลือกโหมด “GRAVEL” ของโหมดการขับเคลื่อน  วิธีแก้ป้ญหา (อ้างอิง): ให้ดูเรื่อง “โหมดการขับเคลื่อน” หน้า 6-47   หน้าจอ: สาเหตุ: เมื่อเลือกโหมด “SNOW” ของโหมดการขับเคลื่อน  วิธีแก้ป้ญหา (อ้างอิง): ให้ดูเรื่อง “โหมดการขับเคลื่อน” หน้า 6-47   หน้าจอ: สาเหตุ: เมื่อเข้าใกล้ตําแหน่งที่แนะนํา ฯลฯ  วิธีแก้ป้ญหา (อ้างอิง): ให้ดูเรื่อง “จอแสดงผลเริ่มต้น” หน้า 5-4   หน้าจอ: สาเหตุ: เมื่อเซ็นเซอร์จอดรถตรวจพบสิ่งกีดขวาง  วิธีแก้ป้ญหา (อ้างอิง): ให้ดูเรื่อง “การทํางานของระบบเซ็นเซอร์ช่วยจอด” หน้า 6-89\n"
     ]
    }
   ],
   "source": [
    "print(f\"Answer :\\n{result['answer']}\\n\\nSource :\\nPage : {(result['source_documents'])[0].metadata}\\nContent : {(result['source_documents'])[0].page_content}\")"
   ]
  },
  {
   "cell_type": "code",
   "execution_count": null,
   "metadata": {},
   "outputs": [],
   "source": []
  }
 ],
 "metadata": {
  "kernelspec": {
   "display_name": "Python 3",
   "language": "python",
   "name": "python3"
  },
  "language_info": {
   "codemirror_mode": {
    "name": "ipython",
    "version": 3
   },
   "file_extension": ".py",
   "mimetype": "text/x-python",
   "name": "python",
   "nbconvert_exporter": "python",
   "pygments_lexer": "ipython3",
   "version": "3.10.9"
  }
 },
 "nbformat": 4,
 "nbformat_minor": 2
}
