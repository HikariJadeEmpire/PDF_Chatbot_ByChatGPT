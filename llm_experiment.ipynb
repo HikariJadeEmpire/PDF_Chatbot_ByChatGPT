{
 "cells": [
  {
   "cell_type": "code",
   "execution_count": 1,
   "metadata": {},
   "outputs": [],
   "source": [
    "import random\n",
    "\n",
    "# Modules to import\n",
    "\n",
    "from langchain.chat_models import ChatOpenAI\n",
    "from langchain.chains import ConversationalRetrievalChain, RetrievalQA\n",
    "from langchain.document_loaders import PyPDFLoader\n",
    "from langchain.embeddings.openai import OpenAIEmbeddings\n",
    "from langchain.memory import ConversationBufferMemory\n",
    "from langchain.text_splitter import RecursiveCharacterTextSplitter\n",
    "\n",
    "from langchain.vectorstores.faiss import FAISS"
   ]
  },
  {
   "cell_type": "markdown",
   "metadata": {},
   "source": [
    "# Get OpenAI API KEY"
   ]
  },
  {
   "cell_type": "code",
   "execution_count": 1,
   "metadata": {},
   "outputs": [],
   "source": [
    "import os\n",
    "from dotenv import load_dotenv, find_dotenv\n",
    "\n",
    "load_dotenv(find_dotenv()) # read local .env file\n",
    "api = os.getenv('OPENAI_API_KEY_H')"
   ]
  },
  {
   "cell_type": "markdown",
   "metadata": {},
   "source": [
    "# Split Chunk"
   ]
  },
  {
   "cell_type": "code",
   "execution_count": 3,
   "metadata": {},
   "outputs": [],
   "source": [
    "r_splitter = RecursiveCharacterTextSplitter(\n",
    "    chunk_size=600,\n",
    "    chunk_overlap=100,\n",
    "    separators=[\"\\n\\n\", \"\\n\", \"(?<=\\. )\", \" \", \"\"]\n",
    ")\n",
    "\n",
    "docs = []\n",
    "for loader in os.listdir(\"docs\"):\n",
    "    if loader is not None :\n",
    "        try :\n",
    "            docs.extend(PyPDFLoader(\"docs/\"+loader).load())\n",
    "        except Exception as e1 :\n",
    "            print(f\" [ Documents ERROR ] : {e1}\")\n",
    "    else : break"
   ]
  },
  {
   "cell_type": "code",
   "execution_count": 4,
   "metadata": {},
   "outputs": [
    {
     "data": {
      "text/plain": [
       "[Document(page_content='1-72 สารบัญ ภาพโดยรวม/คู่มืออย่างง่าย        1 ข้อมูลทั่วไป          2 การล็อกและการปลดล็อก        3 เบาะนั่งและเข็มขัดนิรภัย         4 แผงหน้าป้ดและอุปกรณ์ควบคุม        5 การสตาร์ทและการขับขี่         6 การใช้อุปกรณ์อํานวยความสะดวก       7 เมื่อเกิดเหตุฉุกเฉิน         8 การดูแลรักษาสภาพรถ         9 การบํารุงรักษา          10 ข้อมูลจําเพาะ          11 ', metadata={'source': 'docs/Text_PDF_.pdf', 'page': 0}),\n",
       " Document(page_content='แผงหน้าป้ดและอุปกรณ์ควบคุม(ด้านคนขับ) ภาพโดยรวม/คู่มืออย่างง่าย1-11 - สวิตช์ที่ป้ดนํ้าฝนและฉีดนํ้าล้างกระจกหน้า5-45 - แผงหน้าป้ดหน้า5-2 - สวิตช์ควบคุมความสว่างของแผงหน้าป้ดหน้า5-2 - สวิตช์ระบบควบคุมเสถียรภาพการทรงตัว(ASC)OFFหน้า6-70 - สวิตช์เซ็นทรัลล็อกหน้า3-15 - สวิตช์ควบคุมหน้าต่างไฟฟ้าหน้า3-19 - สวิตช์ล็อกหน้า3-20 - สวิตช์ไฟหน้าและไฟสูง-ตํ่าหน้า5-40 - สวิตช์ระบบปรับไฟสูงอัตโนมัติ(AHB)หน้า5-43 - คันสวิตช์ไฟเลี้ยวหน้า5-44 - สวิตช์ไฟตัดหมอกด้านหน้าหน้า5-45 - สวิตช์หน้าจอแสดงข้อมูลรวมหน้า5-4 - สวิตช์ควบคุมเครื่องเสียงบนพวงมาลัยให้ดูคู่มือการใช้งานแยกต่างหากสวิตช์เครื่องยนต์หน้า6-13 - ถุงลมนิรภัยSRSด้านคนขับหน้า4-22,4-26 - สวิตช์แตรหน้า5-50 - สวิตช์แฮนด์ฟรีสวิตช์ระบบการรู้จําเสียงให้ดูคู่มือการใช้งานแยกต่างหากที่วางแก้วหน้า7-31 - สวิตช์AutoStop&Go(AS&G)OFFหน้า6-27 - สวิตช์กุญแจหน้า6-11 - ที่เปิดฝากระโปรงหน้า10-3 - รีโมทไฟฟ้า-ควบคุมกระจกมองข้างหน้า6-8 - คันปลดล็อกฝาปิดถังนํ้ามันเชื้อเพลิงหน้า2-2 *รวมถึงความแตกต่างในข้อมูลจําเพาะของอุปกรณ์และตัวเลือกของผู้ผลิตด้วย ', metadata={'source': 'docs/Text_PDF_.pdf', 'page': 1})]"
      ]
     },
     "execution_count": 4,
     "metadata": {},
     "output_type": "execute_result"
    }
   ],
   "source": [
    "docs[:2]"
   ]
  },
  {
   "cell_type": "markdown",
   "metadata": {},
   "source": [
    "# Vector Database"
   ]
  },
  {
   "cell_type": "code",
   "execution_count": 5,
   "metadata": {},
   "outputs": [],
   "source": [
    "splits = r_splitter.split_documents(docs)\n",
    "\n",
    "db = FAISS.from_documents( splits, OpenAIEmbeddings( api_key = api ) )"
   ]
  },
  {
   "cell_type": "code",
   "execution_count": 6,
   "metadata": {},
   "outputs": [
    {
     "data": {
      "text/plain": [
       "Document(page_content=': กะพริบ (ตัวแสดงโหมดการขับเคลื่อน4 ล้อกะพริบด้วย) : สว่าง : ดับ “4H”  “4HLc” \\n: กะพริบ (ตัวแสดงโหมดการขับเคลื่อน 4 ล้อกะพริบด้วย) : สว่าง : ดับ ตําแหน่งปุ่มเลือกการขับเคลื่อน 4 ล้อตัวแสดง2Hกําลังเปลี่ยนโหมดการขับเคลื่อน 4 ล้อ4H\\nตําแหน่งปุ่มเลือกการขับเคลื่อน 4 ล้อตัวแสดง4Hกําลังเปลี่ยนโหมดการขับเคลื่อน 4 ล้อ4HLc', metadata={'source': 'docs/Text_PDF_.pdf', 'page': 196})"
      ]
     },
     "execution_count": 6,
     "metadata": {},
     "output_type": "execute_result"
    }
   ],
   "source": [
    "splits[random.randint(0,len(splits))]"
   ]
  },
  {
   "cell_type": "markdown",
   "metadata": {},
   "source": [
    "# CHAT Method"
   ]
  },
  {
   "cell_type": "code",
   "execution_count": 7,
   "metadata": {},
   "outputs": [],
   "source": [
    "# Memory\n",
    "\n",
    "memory = ConversationBufferMemory(\n",
    "    memory_key=\"chat_history\",\n",
    "    return_messages=True,\n",
    "    output_key='answer',\n",
    ")"
   ]
  },
  {
   "cell_type": "code",
   "execution_count": 8,
   "metadata": {},
   "outputs": [],
   "source": [
    "model_lists = [ \"gpt-3.5-turbo\", 'gpt-4-1106-preview', \"gpt-4\", ]\n",
    "\n",
    "llm = ChatOpenAI( api_key = api, model_name = model_lists[0], temperature = 0 )"
   ]
  },
  {
   "cell_type": "code",
   "execution_count": 34,
   "metadata": {},
   "outputs": [],
   "source": [
    "# qa = RetrievalQA.from_chain_type(\n",
    "#     llm,\n",
    "#     retriever=db.as_retriever(search_type=\"similarity\", search_kwargs={\"k\": 1}),\n",
    "#     chain_type=\"map_reduce\",\n",
    "#     return_source_documents = True,\n",
    "# )"
   ]
  },
  {
   "cell_type": "code",
   "execution_count": 12,
   "metadata": {},
   "outputs": [],
   "source": [
    "memory.clear()"
   ]
  },
  {
   "cell_type": "code",
   "execution_count": 9,
   "metadata": {},
   "outputs": [],
   "source": [
    "qa = ConversationalRetrievalChain.from_llm(\n",
    "            llm = llm,\n",
    "            retriever = db.as_retriever(search_type=\"similarity\", search_kwargs={\"k\": 3}),\n",
    "            memory = memory,\n",
    "            return_source_documents = True,\n",
    "            return_generated_question = True,\n",
    "        )"
   ]
  },
  {
   "cell_type": "markdown",
   "metadata": {},
   "source": [
    "## Get answer (Testing)"
   ]
  },
  {
   "cell_type": "code",
   "execution_count": 14,
   "metadata": {},
   "outputs": [
    {
     "name": "stdout",
     "output_type": "stream",
     "text": [
      "context : หมายเหตุ  \n",
      "● หากคุณยังคงกดสวิตช์  “ASC OFF” ค้างไว้หลังจากที่ฟังก์ชันควบคุมเสถียรภาพปิดไปแล้ว  “ฟังก\n",
      "page : 210\n",
      "\n",
      "\n",
      "dict_keys(['question', 'chat_history', 'answer', 'source_documents', 'generated_question'])\n",
      "\n",
      "\n",
      "Question :\n",
      "\n",
      "context : 'หมายเหตุ  \n",
      "● หากคุณยังคงกดสวิตช์  “ASC OFF” ค้างไว้หลังจากที่ฟังก์ชันควบคุมเสถียรภาพปิดไปแล้ว  “ฟังก์ชันป้องกันการทํางานผิดพลาด ” \n",
      "จะทํางานและเปิดฟังก์ชันควบคุมเสถียรภาพอีกครั้ง  \n",
      "● แม้จะปิดฟังก์ชันควบคุมเสถียรภาพไปแล้ว  แต่ฟังก์ชันนี้อาจกลับมาทํางานได้โดยขึ้นอยู่กับการเคลื่อนไหวของรถ  \n",
      " \n",
      "ฟังก์ชันควบคุมการออกตัวและการเข้าโค้ง  \n",
      "E00617001048 \n",
      "ฟังก์ชันควบคุมการออกตัวและการเข้าโค้งป้องกันไม่ให้ล้อหมุนมากเกินไปบนถนนลื่นและช่วยให้รถที่หยุดอยู่ออกตัวได้  \n",
      "นอกจากนี้ยังให้กําลังการขับเคลื่อนที่เพียงพอและทําให้การหมุนพวงมาลัยมีประสิทธิภาพเมื่อรถเลี้ยวขณะเหยียบคันเร่ง \n",
      " \n",
      "ข้อควรระวัง'\n",
      "Create 1 question using only the context provided.\n",
      "End each question with a '?' character.\n",
      "You must answer the question by refer to the context as much as you can.\n",
      "Separate question/answer by a newline.\n",
      "the question and the answer should be thai language.\n",
      "\n",
      "\n",
      "Answer :\n",
      "ฟังก์ชันควบคุมการออกตัวและการเข้าโค้งมีประโยชน์อย่างไร?\n",
      "\n",
      "Source :\n",
      "Page : {'source': 'docs/Text_PDF_.pdf', 'page': 209}\n",
      "Content : หมายเหตุ  \n",
      "● หากคุณยังคงกดสวิตช์  “ASC OFF” ค้างไว้หลังจากที่ฟังก์ชันควบคุมเสถียรภาพปิดไปแล้ว  “ฟังก์ชันป้องกันการทํางานผิดพลาด ” \n",
      "จะทํางานและเปิดฟังก์ชันควบคุมเสถียรภาพอีกครั้ง  \n",
      "● แม้จะปิดฟังก์ชันควบคุมเสถียรภาพไปแล้ว  แต่ฟังก์ชันนี้อาจกลับมาทํางานได้โดยขึ้นอยู่กับการเคลื่อนไหวของรถ  \n",
      " \n",
      "ฟังก์ชันควบคุมการออกตัวและการเข้าโค้ง  \n",
      "E00617001048 \n",
      "ฟังก์ชันควบคุมการออกตัวและการเข้าโค้งป้องกันไม่ให้ล้อหมุนมากเกินไปบนถนนลื่นและช่วยให้รถที่หยุดอยู่ออกตัวได้  \n",
      "นอกจากนี้ยังให้กําลังการขับเคลื่อนที่เพียงพอและทําให้การหมุนพวงมาลัยมีประสิทธิภาพเมื่อรถเลี้ยวขณะเหยียบคันเร่ง \n",
      " \n",
      "ข้อควรระวัง\n"
     ]
    }
   ],
   "source": [
    "ran = splits[random.randint(0,len(splits))]\n",
    "\n",
    "prompt = f\"\"\"\n",
    "context : '{ran.page_content}'\n",
    "Create 1 question using only the context provided.\n",
    "End each question with a '?' character.\n",
    "You must answer the question by refer to the context as much as you can.\n",
    "Separate question/answer by a newline.\n",
    "the question and the answer should be thai language.\n",
    "\"\"\"\n",
    "\n",
    "# Test\n",
    "result = qa({\"question\": prompt})\n",
    "\n",
    "print(f\"context : {(ran.page_content)[:100]}\\npage : {(ran.metadata)['page']+1}\\n\\n\")\n",
    "\n",
    "print(f\"{result.keys()}\\n\\n\")\n",
    "print(f\"Question :\\n{result['generated_question']}\\n\\nAnswer :\\n{result['answer']}\\n\\nSource :\\nPage : {(result['source_documents'])[0].metadata}\\nContent : {(result['source_documents'])[0].page_content}\")"
   ]
  },
  {
   "cell_type": "code",
   "execution_count": 15,
   "metadata": {},
   "outputs": [
    {
     "data": {
      "text/plain": [
       "210"
      ]
     },
     "execution_count": 15,
     "metadata": {},
     "output_type": "execute_result"
    }
   ],
   "source": [
    "((result['source_documents'])[0].metadata)['page']+1"
   ]
  },
  {
   "cell_type": "code",
   "execution_count": 14,
   "metadata": {},
   "outputs": [],
   "source": [
    "# del result"
   ]
  },
  {
   "cell_type": "markdown",
   "metadata": {},
   "source": [
    "# Bulid dataset"
   ]
  },
  {
   "cell_type": "code",
   "execution_count": 1,
   "metadata": {},
   "outputs": [
    {
     "data": {
      "text/html": [
       "<div>\n",
       "<style scoped>\n",
       "    .dataframe tbody tr th:only-of-type {\n",
       "        vertical-align: middle;\n",
       "    }\n",
       "\n",
       "    .dataframe tbody tr th {\n",
       "        vertical-align: top;\n",
       "    }\n",
       "\n",
       "    .dataframe thead th {\n",
       "        text-align: right;\n",
       "    }\n",
       "</style>\n",
       "<table border=\"1\" class=\"dataframe\">\n",
       "  <thead>\n",
       "    <tr style=\"text-align: right;\">\n",
       "      <th></th>\n",
       "      <th>questions</th>\n",
       "      <th>answer</th>\n",
       "      <th>doc_page</th>\n",
       "      <th>doc_content</th>\n",
       "      <th>doc_source</th>\n",
       "    </tr>\n",
       "  </thead>\n",
       "  <tbody>\n",
       "    <tr>\n",
       "      <th>90</th>\n",
       "      <td>ต้องทำอย่างไรเมื่อความเร็วรถลดลงต่ำกว่าประมาณ ...</td>\n",
       "      <td>เมื่อความเร็วรถลดลงต่ำกว่าประมาณ 30 กม./ชม., ค...</td>\n",
       "      <td>127</td>\n",
       "      <td>แผงหน้าปัดและอุปกรณ์ควบคุม  5  \\nคันสวิตช์ไฟเล...</td>\n",
       "      <td>docs/Text_PDF_.pdf</td>\n",
       "    </tr>\n",
       "    <tr>\n",
       "      <th>91</th>\n",
       "      <td>ระบบ FCM อาจไม่ทำงานในสภาวะใดบ้าง?</td>\n",
       "      <td>ระบบ FCM อาจไม่ทำงานในสภาวะดังต่อไปนี้:\\n- รถค...</td>\n",
       "      <td>213</td>\n",
       "      <td>○ ระบบ FCM อาจไม่ทํางานหากรถคันหน้ามีลักษณะแคบ...</td>\n",
       "      <td>docs/Text_PDF_.pdf</td>\n",
       "    </tr>\n",
       "    <tr>\n",
       "      <th>92</th>\n",
       "      <td>ตัวแสดงโหมดการขับเคลื่อน 4 ล้อแสดงสถานะการเปลี...</td>\n",
       "      <td>ตัวแสดงโหมดการขับเคลื่อน 4 ล้อจะสว่างตามตำแหน่...</td>\n",
       "      <td>180</td>\n",
       "      <td>ตัวแสดงโหมดการขับเคลื่อน  4 ล้อและตัวแสดงการทํ...</td>\n",
       "      <td>docs/Text_PDF_.pdf</td>\n",
       "    </tr>\n",
       "  </tbody>\n",
       "</table>\n",
       "</div>"
      ],
      "text/plain": [
       "                                            questions  \\\n",
       "90  ต้องทำอย่างไรเมื่อความเร็วรถลดลงต่ำกว่าประมาณ ...   \n",
       "91                 ระบบ FCM อาจไม่ทำงานในสภาวะใดบ้าง?   \n",
       "92  ตัวแสดงโหมดการขับเคลื่อน 4 ล้อแสดงสถานะการเปลี...   \n",
       "\n",
       "                                               answer  doc_page  \\\n",
       "90  เมื่อความเร็วรถลดลงต่ำกว่าประมาณ 30 กม./ชม., ค...       127   \n",
       "91  ระบบ FCM อาจไม่ทำงานในสภาวะดังต่อไปนี้:\\n- รถค...       213   \n",
       "92  ตัวแสดงโหมดการขับเคลื่อน 4 ล้อจะสว่างตามตำแหน่...       180   \n",
       "\n",
       "                                          doc_content          doc_source  \n",
       "90  แผงหน้าปัดและอุปกรณ์ควบคุม  5  \\nคันสวิตช์ไฟเล...  docs/Text_PDF_.pdf  \n",
       "91  ○ ระบบ FCM อาจไม่ทํางานหากรถคันหน้ามีลักษณะแคบ...  docs/Text_PDF_.pdf  \n",
       "92  ตัวแสดงโหมดการขับเคลื่อน  4 ล้อและตัวแสดงการทํ...  docs/Text_PDF_.pdf  "
      ]
     },
     "execution_count": 1,
     "metadata": {},
     "output_type": "execute_result"
    }
   ],
   "source": [
    "import pandas as pd\n",
    "\n",
    "df = pd.read_csv(\"rerank_dataset.csv\", index_col=0)\n",
    "\n",
    "df.tail(3)"
   ]
  },
  {
   "cell_type": "code",
   "execution_count": 17,
   "metadata": {},
   "outputs": [],
   "source": [
    "rerank_df = {\"questions\":[], \"answer\":[], \"doc_page\":[], \"doc_content\":[], \"doc_source\":[]}"
   ]
  },
  {
   "cell_type": "code",
   "execution_count": 18,
   "metadata": {},
   "outputs": [],
   "source": [
    "for i in range(51):\n",
    "    ran = splits[random.randint(0,len(splits))]\n",
    "    prompt = f\"\"\"\n",
    "context : '{ran.page_content}'\n",
    "Create 1 question using only the context provided.\n",
    "End each question with a '?' character.\n",
    "You must answer the question by refer to the context as much as you can.\n",
    "Separate question/answer by a newline.\n",
    "the question and the answer should be thai language.\n",
    "\"\"\"\n",
    "    try :\n",
    "        result = qa({\"question\": prompt})\n",
    "        \n",
    "        rerank_df[\"answer\"].append(result['answer'])\n",
    "        rerank_df[\"questions\"].append(result['generated_question'])\n",
    "        rerank_df[\"doc_content\"].append(ran.page_content)\n",
    "        rerank_df[\"doc_page\"].append( (ran.metadata)['page']+1 )\n",
    "        rerank_df[\"doc_source\"].append( (ran.metadata)['source'] )\n",
    "        \n",
    "    except :\n",
    "        memory.clear()\n",
    "        result = qa({\"question\": prompt})\n",
    " "
   ]
  },
  {
   "cell_type": "code",
   "execution_count": 19,
   "metadata": {},
   "outputs": [
    {
     "name": "stdout",
     "output_type": "stream",
     "text": [
      "number of dataset : 42\n",
      "\n",
      "\n"
     ]
    },
    {
     "data": {
      "text/html": [
       "<div>\n",
       "<style scoped>\n",
       "    .dataframe tbody tr th:only-of-type {\n",
       "        vertical-align: middle;\n",
       "    }\n",
       "\n",
       "    .dataframe tbody tr th {\n",
       "        vertical-align: top;\n",
       "    }\n",
       "\n",
       "    .dataframe thead th {\n",
       "        text-align: right;\n",
       "    }\n",
       "</style>\n",
       "<table border=\"1\" class=\"dataframe\">\n",
       "  <thead>\n",
       "    <tr style=\"text-align: right;\">\n",
       "      <th></th>\n",
       "      <th>questions</th>\n",
       "      <th>answer</th>\n",
       "      <th>doc_page</th>\n",
       "      <th>doc_content</th>\n",
       "      <th>doc_source</th>\n",
       "    </tr>\n",
       "  </thead>\n",
       "  <tbody>\n",
       "    <tr>\n",
       "      <th>39</th>\n",
       "      <td>ต้องทำอย่างไรเมื่อความเร็วรถลดลงต่ำกว่าประมาณ ...</td>\n",
       "      <td>เมื่อความเร็วรถลดลงต่ำกว่าประมาณ 30 กม./ชม., ค...</td>\n",
       "      <td>127</td>\n",
       "      <td>แผงหน้าปัดและอุปกรณ์ควบคุม  5  \\nคันสวิตช์ไฟเล...</td>\n",
       "      <td>docs/Text_PDF_.pdf</td>\n",
       "    </tr>\n",
       "    <tr>\n",
       "      <th>40</th>\n",
       "      <td>ระบบ FCM อาจไม่ทำงานในสภาวะใดบ้าง?</td>\n",
       "      <td>ระบบ FCM อาจไม่ทำงานในสภาวะดังต่อไปนี้:\\n- รถค...</td>\n",
       "      <td>213</td>\n",
       "      <td>○ ระบบ FCM อาจไม่ทํางานหากรถคันหน้ามีลักษณะแคบ...</td>\n",
       "      <td>docs/Text_PDF_.pdf</td>\n",
       "    </tr>\n",
       "    <tr>\n",
       "      <th>41</th>\n",
       "      <td>ตัวแสดงโหมดการขับเคลื่อน 4 ล้อแสดงสถานะการเปลี...</td>\n",
       "      <td>ตัวแสดงโหมดการขับเคลื่อน 4 ล้อจะสว่างตามตำแหน่...</td>\n",
       "      <td>180</td>\n",
       "      <td>ตัวแสดงโหมดการขับเคลื่อน  4 ล้อและตัวแสดงการทํ...</td>\n",
       "      <td>docs/Text_PDF_.pdf</td>\n",
       "    </tr>\n",
       "  </tbody>\n",
       "</table>\n",
       "</div>"
      ],
      "text/plain": [
       "                                            questions  \\\n",
       "39  ต้องทำอย่างไรเมื่อความเร็วรถลดลงต่ำกว่าประมาณ ...   \n",
       "40                 ระบบ FCM อาจไม่ทำงานในสภาวะใดบ้าง?   \n",
       "41  ตัวแสดงโหมดการขับเคลื่อน 4 ล้อแสดงสถานะการเปลี...   \n",
       "\n",
       "                                               answer  doc_page  \\\n",
       "39  เมื่อความเร็วรถลดลงต่ำกว่าประมาณ 30 กม./ชม., ค...       127   \n",
       "40  ระบบ FCM อาจไม่ทำงานในสภาวะดังต่อไปนี้:\\n- รถค...       213   \n",
       "41  ตัวแสดงโหมดการขับเคลื่อน 4 ล้อจะสว่างตามตำแหน่...       180   \n",
       "\n",
       "                                          doc_content          doc_source  \n",
       "39  แผงหน้าปัดและอุปกรณ์ควบคุม  5  \\nคันสวิตช์ไฟเล...  docs/Text_PDF_.pdf  \n",
       "40  ○ ระบบ FCM อาจไม่ทํางานหากรถคันหน้ามีลักษณะแคบ...  docs/Text_PDF_.pdf  \n",
       "41  ตัวแสดงโหมดการขับเคลื่อน  4 ล้อและตัวแสดงการทํ...  docs/Text_PDF_.pdf  "
      ]
     },
     "execution_count": 19,
     "metadata": {},
     "output_type": "execute_result"
    }
   ],
   "source": [
    "r_df = pd.DataFrame.from_dict(rerank_df)\n",
    "\n",
    "print(f\"number of dataset : {len(r_df)}\\n\\n\")\n",
    "r_df.tail(3)"
   ]
  },
  {
   "cell_type": "code",
   "execution_count": 20,
   "metadata": {},
   "outputs": [
    {
     "name": "stdout",
     "output_type": "stream",
     "text": [
      "number of dataset : 93\n",
      "\n",
      "\n"
     ]
    },
    {
     "data": {
      "text/html": [
       "<div>\n",
       "<style scoped>\n",
       "    .dataframe tbody tr th:only-of-type {\n",
       "        vertical-align: middle;\n",
       "    }\n",
       "\n",
       "    .dataframe tbody tr th {\n",
       "        vertical-align: top;\n",
       "    }\n",
       "\n",
       "    .dataframe thead th {\n",
       "        text-align: right;\n",
       "    }\n",
       "</style>\n",
       "<table border=\"1\" class=\"dataframe\">\n",
       "  <thead>\n",
       "    <tr style=\"text-align: right;\">\n",
       "      <th></th>\n",
       "      <th>questions</th>\n",
       "      <th>answer</th>\n",
       "      <th>doc_page</th>\n",
       "      <th>doc_content</th>\n",
       "      <th>doc_source</th>\n",
       "    </tr>\n",
       "  </thead>\n",
       "  <tbody>\n",
       "    <tr>\n",
       "      <th>90</th>\n",
       "      <td>ต้องทำอย่างไรเมื่อความเร็วรถลดลงต่ำกว่าประมาณ ...</td>\n",
       "      <td>เมื่อความเร็วรถลดลงต่ำกว่าประมาณ 30 กม./ชม., ค...</td>\n",
       "      <td>127</td>\n",
       "      <td>แผงหน้าปัดและอุปกรณ์ควบคุม  5  \\nคันสวิตช์ไฟเล...</td>\n",
       "      <td>docs/Text_PDF_.pdf</td>\n",
       "    </tr>\n",
       "    <tr>\n",
       "      <th>91</th>\n",
       "      <td>ระบบ FCM อาจไม่ทำงานในสภาวะใดบ้าง?</td>\n",
       "      <td>ระบบ FCM อาจไม่ทำงานในสภาวะดังต่อไปนี้:\\n- รถค...</td>\n",
       "      <td>213</td>\n",
       "      <td>○ ระบบ FCM อาจไม่ทํางานหากรถคันหน้ามีลักษณะแคบ...</td>\n",
       "      <td>docs/Text_PDF_.pdf</td>\n",
       "    </tr>\n",
       "    <tr>\n",
       "      <th>92</th>\n",
       "      <td>ตัวแสดงโหมดการขับเคลื่อน 4 ล้อแสดงสถานะการเปลี...</td>\n",
       "      <td>ตัวแสดงโหมดการขับเคลื่อน 4 ล้อจะสว่างตามตำแหน่...</td>\n",
       "      <td>180</td>\n",
       "      <td>ตัวแสดงโหมดการขับเคลื่อน  4 ล้อและตัวแสดงการทํ...</td>\n",
       "      <td>docs/Text_PDF_.pdf</td>\n",
       "    </tr>\n",
       "  </tbody>\n",
       "</table>\n",
       "</div>"
      ],
      "text/plain": [
       "                                            questions  \\\n",
       "90  ต้องทำอย่างไรเมื่อความเร็วรถลดลงต่ำกว่าประมาณ ...   \n",
       "91                 ระบบ FCM อาจไม่ทำงานในสภาวะใดบ้าง?   \n",
       "92  ตัวแสดงโหมดการขับเคลื่อน 4 ล้อแสดงสถานะการเปลี...   \n",
       "\n",
       "                                               answer  doc_page  \\\n",
       "90  เมื่อความเร็วรถลดลงต่ำกว่าประมาณ 30 กม./ชม., ค...       127   \n",
       "91  ระบบ FCM อาจไม่ทำงานในสภาวะดังต่อไปนี้:\\n- รถค...       213   \n",
       "92  ตัวแสดงโหมดการขับเคลื่อน 4 ล้อจะสว่างตามตำแหน่...       180   \n",
       "\n",
       "                                          doc_content          doc_source  \n",
       "90  แผงหน้าปัดและอุปกรณ์ควบคุม  5  \\nคันสวิตช์ไฟเล...  docs/Text_PDF_.pdf  \n",
       "91  ○ ระบบ FCM อาจไม่ทํางานหากรถคันหน้ามีลักษณะแคบ...  docs/Text_PDF_.pdf  \n",
       "92  ตัวแสดงโหมดการขับเคลื่อน  4 ล้อและตัวแสดงการทํ...  docs/Text_PDF_.pdf  "
      ]
     },
     "metadata": {},
     "output_type": "display_data"
    }
   ],
   "source": [
    "df = pd.concat([df, r_df], \n",
    "                  ignore_index = True)\n",
    "\n",
    "print(f\"number of dataset : {len(df)}\\n\\n\")\n",
    "display(df.tail(3))"
   ]
  },
  {
   "cell_type": "code",
   "execution_count": 4,
   "metadata": {},
   "outputs": [],
   "source": [
    "df.to_csv(\"rerank_dataset.csv\")"
   ]
  },
  {
   "cell_type": "markdown",
   "metadata": {},
   "source": [
    "# Metadata enrichment\n",
    "- Using keyBERT\n",
    "- Using PyThaiNLP with keyBERT"
   ]
  },
  {
   "cell_type": "code",
   "execution_count": 1,
   "metadata": {},
   "outputs": [],
   "source": [
    "# ! pip install keybert\n",
    "# ! pip install keybert[flair] keybert[gensim] keybert[spacy] keybert[use]"
   ]
  },
  {
   "cell_type": "code",
   "execution_count": 2,
   "metadata": {},
   "outputs": [],
   "source": [
    "# ! pip install --upgrade pythainlp\n",
    "# ! pip install attacut"
   ]
  },
  {
   "cell_type": "markdown",
   "metadata": {},
   "source": [
    "## Dataset optimization"
   ]
  },
  {
   "cell_type": "code",
   "execution_count": 2,
   "metadata": {},
   "outputs": [],
   "source": [
    "# difference check\n",
    "def diff_check(a,b):\n",
    "    for i,j in zip(a,b):\n",
    "        assert (i == j)\n",
    "\n",
    "# Check result\n",
    "\n",
    "def check_r(list):\n",
    "    return print(f\"Number of items in the list : {len(list)}\\nexample 1 (first) : {list[0]}\\nexample 2 (last) : {list[-1]}\")\n",
    "\n",
    "# Clean text\n",
    "\n",
    "def clean_text(text):\n",
    "    text = text.replace(' ','').replace('(','')\\\n",
    "        .replace(')','').replace('?','').replace('●','')\\\n",
    "        .replace('/','').replace('-','').replace('•','')\\\n",
    "        .replace('○','').replace('\\\\','').replace('\"','')\\\n",
    "        .replace('■','').replace('”','').replace('“','')\\\n",
    "        .replace(':','').replace(',',':')\n",
    "    return text\n"
   ]
  },
  {
   "cell_type": "code",
   "execution_count": 3,
   "metadata": {},
   "outputs": [],
   "source": [
    "label_from_doc = list()\n",
    "label_from_questions = list()\n",
    "\n",
    "for i,j in zip(df['doc_content'],df['questions']) :\n",
    "    label_from_doc.append(i)\n",
    "    label_from_questions.append(j)"
   ]
  },
  {
   "cell_type": "code",
   "execution_count": 4,
   "metadata": {},
   "outputs": [],
   "source": [
    "diff_check(label_from_doc,df['doc_content'])\n",
    "diff_check(label_from_questions,df['questions'])"
   ]
  },
  {
   "cell_type": "markdown",
   "metadata": {},
   "source": [
    "## keyBERT\n",
    "- extracting keywords"
   ]
  },
  {
   "cell_type": "code",
   "execution_count": 5,
   "metadata": {},
   "outputs": [],
   "source": [
    "# from keybert import KeyBERT\n",
    "\n",
    "# doc = \"\"\"\n",
    "#          Supervised learning is the machine learning task of learning a function that\n",
    "#          maps an input to an output based on example input-output pairs. It infers a\n",
    "#          function from labeled training data consisting of a set of training examples.\n",
    "#          In supervised learning, each example is a pair consisting of an input object\n",
    "#          (typically a vector) and a desired output value (also called the supervisory signal).\n",
    "#          A supervised learning algorithm analyzes the training data and produces an inferred function,\n",
    "#          which can be used for mapping new examples. An optimal scenario will allow for the\n",
    "#          algorithm to correctly determine the class labels for unseen instances. This requires\n",
    "#          the learning algorithm to generalize from the training data to unseen situations in a\n",
    "#          'reasonable' way (see inductive bias).\n",
    "#       \"\"\"\n",
    "# kw_model = KeyBERT(model=\"paraphrase-multilingual-MiniLM-L12-v2\")\n",
    "# keywords = kw_model.extract_keywords(doc, keyphrase_ngram_range=(1, 1), stop_words=None)"
   ]
  },
  {
   "cell_type": "code",
   "execution_count": 6,
   "metadata": {},
   "outputs": [
    {
     "data": {
      "text/plain": [
       "[('supervised', 0.5804),\n",
       " ('supervisory', 0.5156),\n",
       " ('learning', 0.5126),\n",
       " ('training', 0.4726),\n",
       " ('input', 0.3581)]"
      ]
     },
     "execution_count": 6,
     "metadata": {},
     "output_type": "execute_result"
    }
   ],
   "source": [
    "# keywords"
   ]
  },
  {
   "cell_type": "code",
   "execution_count": 7,
   "metadata": {},
   "outputs": [
    {
     "name": "stdout",
     "output_type": "stream",
     "text": [
      "Number of items in the list : 93\n",
      "example 1 (first) : [('กระจกยกเว', 0.4142), ('โดยสารจะไม', 0.3813), ('องแบตเตอร', 0.26), ('และไฟแสดงจะด', 0.2309), ('พยายามอย', 0.1776)]\n",
      "example 2 (last) : [('4wd', 0.5351), ('4h', 0.4199), ('e00606001774', 0.269), ('วแสดงความเร', 0.2323), ('2h', 0.1909)]\n"
     ]
    }
   ],
   "source": [
    "# # keywords by doc_content\n",
    "\n",
    "# keywords = kw_model.extract_keywords(\n",
    "#                                     label_from_doc,\n",
    "#                                      keyphrase_ngram_range=(1, 1),\n",
    "#                                      stop_words = None,\n",
    "#                                      use_mmr = True,\n",
    "#                                      vectorizer = None,\n",
    "#                                      )\n",
    "\n",
    "# check_r(keywords)"
   ]
  },
  {
   "cell_type": "code",
   "execution_count": 26,
   "metadata": {},
   "outputs": [
    {
     "name": "stdout",
     "output_type": "stream",
     "text": [
      "Number of items in the list : 93\n",
      "example 1 (first) : [('างไร', 0.4069), ('ตช', 0.3885), ('สว', 0.2757), ('อกทำงานอย', 0.2298)]\n",
      "example 2 (last) : [('วแสดงโหมดการข', 0.3286), ('อแสดงสถานะการเปล', 0.3193), ('างไร', 0.209), ('อน', 0.1939), ('ยนโหมดอย', 0.1609)]\n"
     ]
    }
   ],
   "source": [
    "# # keywords by question\n",
    "\n",
    "# keywords = kw_model.extract_keywords(label_from_questions,\n",
    "#                                      keyphrase_ngram_range=(1, 1),\n",
    "#                                      stop_words=None,\n",
    "#                                      )\n",
    "\n",
    "# check_r(keywords)"
   ]
  },
  {
   "cell_type": "markdown",
   "metadata": {},
   "source": [
    "original ```keyBERT``` does not work for Thai language"
   ]
  },
  {
   "cell_type": "markdown",
   "metadata": {},
   "source": [
    "## PyThaiNLP with KeyBERT\n",
    "- extracting keywords"
   ]
  },
  {
   "cell_type": "code",
   "execution_count": 7,
   "metadata": {},
   "outputs": [],
   "source": [
    "from pythainlp.summarize.keybert import KeyBERT as thai_kb\n",
    "\n",
    "kb = thai_kb()\n",
    "\n",
    "def get_keywords(lists):\n",
    "    global kb\n",
    "    keywords=[]\n",
    "    for i in lists:\n",
    "        kw = kb.extract_keywords(i,\n",
    "                                tokenizer=\"attacut\",\n",
    "                                max_keywords=5,\n",
    "                                return_similarity=True\n",
    "                                )\n",
    "        keywords.append(kw)\n",
    "    return keywords"
   ]
  },
  {
   "cell_type": "code",
   "execution_count": 8,
   "metadata": {},
   "outputs": [
    {
     "name": "stderr",
     "output_type": "stream",
     "text": [
      "[W NNPACK.cpp:64] Could not initialize NNPACK! Reason: Unsupported hardware.\n"
     ]
    },
    {
     "name": "stdout",
     "output_type": "stream",
     "text": [
      "Number of items in the list : 93\n",
      "example 1 (first) : [('ล็อกทำ', 0.67616502249311), ('สวิตช์ล็อก', 0.5886666139639188), ('?', 0.38394343227401284), ('งาน', 0.3561380618379986), ('ไร?', 0.28996203712898116)]\n",
      "example 2 (last) : [('โหมดอย่าง', 0.39368097804398205), ('?', 0.35116622377584567), ('ไร?', 0.3459296969723583), ('แสดงโหมด', 0.33969007330578915), ('สถานะการ', 0.3252000116851641)]\n"
     ]
    }
   ],
   "source": [
    "# keywords by question\n",
    "\n",
    "keywords = get_keywords(label_from_questions)\n",
    "check_r(keywords)"
   ]
  },
  {
   "cell_type": "code",
   "execution_count": 9,
   "metadata": {},
   "outputs": [
    {
     "name": "stdout",
     "output_type": "stream",
     "text": [
      "Number of items in the list : 93\n",
      "example 1 (first) : [('ดับเบิลแค็บ)', 0.5401025750345892), ('งาน', 0.3737799935672376), ('ขับ', 0.3660317295125938), ('ขับการ', 0.3569568996731559), ('ซํ้า', 0.35637276798135975)]\n",
      "example 2 (last) : [('E00606001774', 0.4254320220657912), ('งาน', 0.3541632610704103), ('2WD/4WD  ', 0.34959007610036363), ('จะสว่าง', 0.34245305726227326), ('เร็วตํ่า ', 0.3363391918722709)]\n"
     ]
    }
   ],
   "source": [
    "# keywords by chunk\n",
    "\n",
    "keywords_d = get_keywords(label_from_doc)\n",
    "check_r(keywords_d)"
   ]
  },
  {
   "cell_type": "markdown",
   "metadata": {},
   "source": [
    "## Clean Results DATA"
   ]
  },
  {
   "cell_type": "code",
   "execution_count": 10,
   "metadata": {},
   "outputs": [
    {
     "data": {
      "text/plain": [
       "dict_keys(['questions', 'label'])"
      ]
     },
     "execution_count": 10,
     "metadata": {},
     "output_type": "execute_result"
    }
   ],
   "source": [
    "col = {'questions':[],'label':[]}\n",
    "for i in range( len(df) ) :\n",
    "    row = []\n",
    "    for j in keywords_d[i] :\n",
    "        temp = clean_text(j[0])\n",
    "        row.append( temp )\n",
    "    col['questions'].append(df['questions'][i])\n",
    "    col['label'].append(row)\n",
    "\n",
    "col.keys()\n",
    "\n",
    "# to dataframe\n",
    "\n",
    "col = pd.DataFrame.from_dict(col)\n",
    "display(col.tail(3))"
   ]
  },
  {
   "cell_type": "code",
   "execution_count": 11,
   "metadata": {},
   "outputs": [
    {
     "data": {
      "text/html": [
       "<div>\n",
       "<style scoped>\n",
       "    .dataframe tbody tr th:only-of-type {\n",
       "        vertical-align: middle;\n",
       "    }\n",
       "\n",
       "    .dataframe tbody tr th {\n",
       "        vertical-align: top;\n",
       "    }\n",
       "\n",
       "    .dataframe thead th {\n",
       "        text-align: right;\n",
       "    }\n",
       "</style>\n",
       "<table border=\"1\" class=\"dataframe\">\n",
       "  <thead>\n",
       "    <tr style=\"text-align: right;\">\n",
       "      <th></th>\n",
       "      <th>questions</th>\n",
       "      <th>label</th>\n",
       "    </tr>\n",
       "  </thead>\n",
       "  <tbody>\n",
       "    <tr>\n",
       "      <th>0</th>\n",
       "      <td>สวิตช์ล็อกทำงานอย่างไร?</td>\n",
       "      <td>[ดับเบิลแค็บ, งาน, ขับ, ขับการ, ซํ้า]</td>\n",
       "    </tr>\n",
       "    <tr>\n",
       "      <th>1</th>\n",
       "      <td>การขับขี่ขึ้นทางชัน E00647000125 ต้องตั้งค่าปุ...</td>\n",
       "      <td>[SuperSelect, 4WD, สลับ, ความสามารถ, E00647000...</td>\n",
       "    </tr>\n",
       "    <tr>\n",
       "      <th>2</th>\n",
       "      <td>อุปกรณ์ภายนอกที่อยู่ด้านหน้าของรถมีอะไรบ้าง?</td>\n",
       "      <td>[44:10, 24:10, 44:10, 24:10, 24:10]</td>\n",
       "    </tr>\n",
       "    <tr>\n",
       "      <th>3</th>\n",
       "      <td>รถรุ่นที่ติดตั้งการเตือนคาดเข็มขัดนิรภัยสำหรับ...</td>\n",
       "      <td>[งาน, สําหรับเบาะ, ถูก, นั่งที่, บาน]</td>\n",
       "    </tr>\n",
       "    <tr>\n",
       "      <th>4</th>\n",
       "      <td>บนถนนที่ปกคลุมด้วยหิมะหรือลื่นอาจมีความแตกต่าง...</td>\n",
       "      <td>[, ถนน, ปกคลุม, การณ์แนวทาง, แสดงไม่]</td>\n",
       "    </tr>\n",
       "    <tr>\n",
       "      <th>...</th>\n",
       "      <td>...</td>\n",
       "      <td>...</td>\n",
       "    </tr>\n",
       "    <tr>\n",
       "      <th>88</th>\n",
       "      <td>เมื่อเลือกโหมด \"NORMAL\" ของโหมดการขับเคลื่อน ต...</td>\n",
       "      <td>[อ้างอิง, งาน, รายการตัว, NORMAL, NORMAL]</td>\n",
       "    </tr>\n",
       "    <tr>\n",
       "      <th>89</th>\n",
       "      <td>ต้องดูเรื่อง \"การใช้อุปกรณ์อำนวยความสะดวก\" หน้...</td>\n",
       "      <td>[T00UMA000P_OM_THAI.indb, _T00UMA000P_OM_, T00...</td>\n",
       "    </tr>\n",
       "    <tr>\n",
       "      <th>90</th>\n",
       "      <td>ต้องทำอย่างไรเมื่อความเร็วรถลดลงต่ำกว่าประมาณ ...</td>\n",
       "      <td>[ลดลงตํ่ากว่า, E00536800021, งาน, โปรด, อุปกรณ...</td>\n",
       "    </tr>\n",
       "    <tr>\n",
       "      <th>91</th>\n",
       "      <td>ระบบ FCM อาจไม่ทำงานในสภาวะใดบ้าง?</td>\n",
       "      <td>[งาน, อาจทํา, ระหว่างรถ, อาจตรวจ, จับรถ]</td>\n",
       "    </tr>\n",
       "    <tr>\n",
       "      <th>92</th>\n",
       "      <td>ตัวแสดงโหมดการขับเคลื่อน 4 ล้อแสดงสถานะการเปลี...</td>\n",
       "      <td>[E00606001774, งาน, 2WD4WD, จะสว่าง, เร็วตํ่า]</td>\n",
       "    </tr>\n",
       "  </tbody>\n",
       "</table>\n",
       "<p>93 rows × 2 columns</p>\n",
       "</div>"
      ],
      "text/plain": [
       "                                            questions  \\\n",
       "0                             สวิตช์ล็อกทำงานอย่างไร?   \n",
       "1   การขับขี่ขึ้นทางชัน E00647000125 ต้องตั้งค่าปุ...   \n",
       "2        อุปกรณ์ภายนอกที่อยู่ด้านหน้าของรถมีอะไรบ้าง?   \n",
       "3   รถรุ่นที่ติดตั้งการเตือนคาดเข็มขัดนิรภัยสำหรับ...   \n",
       "4   บนถนนที่ปกคลุมด้วยหิมะหรือลื่นอาจมีความแตกต่าง...   \n",
       "..                                                ...   \n",
       "88  เมื่อเลือกโหมด \"NORMAL\" ของโหมดการขับเคลื่อน ต...   \n",
       "89  ต้องดูเรื่อง \"การใช้อุปกรณ์อำนวยความสะดวก\" หน้...   \n",
       "90  ต้องทำอย่างไรเมื่อความเร็วรถลดลงต่ำกว่าประมาณ ...   \n",
       "91                 ระบบ FCM อาจไม่ทำงานในสภาวะใดบ้าง?   \n",
       "92  ตัวแสดงโหมดการขับเคลื่อน 4 ล้อแสดงสถานะการเปลี...   \n",
       "\n",
       "                                                label  \n",
       "0               [ดับเบิลแค็บ, งาน, ขับ, ขับการ, ซํ้า]  \n",
       "1   [SuperSelect, 4WD, สลับ, ความสามารถ, E00647000...  \n",
       "2                 [44:10, 24:10, 44:10, 24:10, 24:10]  \n",
       "3               [งาน, สําหรับเบาะ, ถูก, นั่งที่, บาน]  \n",
       "4               [, ถนน, ปกคลุม, การณ์แนวทาง, แสดงไม่]  \n",
       "..                                                ...  \n",
       "88          [อ้างอิง, งาน, รายการตัว, NORMAL, NORMAL]  \n",
       "89  [T00UMA000P_OM_THAI.indb, _T00UMA000P_OM_, T00...  \n",
       "90  [ลดลงตํ่ากว่า, E00536800021, งาน, โปรด, อุปกรณ...  \n",
       "91           [งาน, อาจทํา, ระหว่างรถ, อาจตรวจ, จับรถ]  \n",
       "92     [E00606001774, งาน, 2WD4WD, จะสว่าง, เร็วตํ่า]  \n",
       "\n",
       "[93 rows x 2 columns]"
      ]
     },
     "metadata": {},
     "output_type": "display_data"
    },
    {
     "data": {
      "text/html": [
       "<div>\n",
       "<style scoped>\n",
       "    .dataframe tbody tr th:only-of-type {\n",
       "        vertical-align: middle;\n",
       "    }\n",
       "\n",
       "    .dataframe tbody tr th {\n",
       "        vertical-align: top;\n",
       "    }\n",
       "\n",
       "    .dataframe thead th {\n",
       "        text-align: right;\n",
       "    }\n",
       "</style>\n",
       "<table border=\"1\" class=\"dataframe\">\n",
       "  <thead>\n",
       "    <tr style=\"text-align: right;\">\n",
       "      <th></th>\n",
       "      <th>questions</th>\n",
       "      <th>answer</th>\n",
       "      <th>doc_page</th>\n",
       "      <th>doc_content</th>\n",
       "      <th>doc_source</th>\n",
       "      <th>label</th>\n",
       "    </tr>\n",
       "  </thead>\n",
       "  <tbody>\n",
       "    <tr>\n",
       "      <th>90</th>\n",
       "      <td>ต้องทำอย่างไรเมื่อความเร็วรถลดลงต่ำกว่าประมาณ ...</td>\n",
       "      <td>เมื่อความเร็วรถลดลงต่ำกว่าประมาณ 30 กม./ชม., ค...</td>\n",
       "      <td>127</td>\n",
       "      <td>แผงหน้าปัดและอุปกรณ์ควบคุม  5  \\nคันสวิตช์ไฟเล...</td>\n",
       "      <td>docs/Text_PDF_.pdf</td>\n",
       "      <td>[ลดลงตํ่ากว่า, E00536800021, งาน, โปรด, อุปกรณ...</td>\n",
       "    </tr>\n",
       "    <tr>\n",
       "      <th>91</th>\n",
       "      <td>ระบบ FCM อาจไม่ทำงานในสภาวะใดบ้าง?</td>\n",
       "      <td>ระบบ FCM อาจไม่ทำงานในสภาวะดังต่อไปนี้:\\n- รถค...</td>\n",
       "      <td>213</td>\n",
       "      <td>○ ระบบ FCM อาจไม่ทํางานหากรถคันหน้ามีลักษณะแคบ...</td>\n",
       "      <td>docs/Text_PDF_.pdf</td>\n",
       "      <td>[งาน, อาจทํา, ระหว่างรถ, อาจตรวจ, จับรถ]</td>\n",
       "    </tr>\n",
       "    <tr>\n",
       "      <th>92</th>\n",
       "      <td>ตัวแสดงโหมดการขับเคลื่อน 4 ล้อแสดงสถานะการเปลี...</td>\n",
       "      <td>ตัวแสดงโหมดการขับเคลื่อน 4 ล้อจะสว่างตามตำแหน่...</td>\n",
       "      <td>180</td>\n",
       "      <td>ตัวแสดงโหมดการขับเคลื่อน  4 ล้อและตัวแสดงการทํ...</td>\n",
       "      <td>docs/Text_PDF_.pdf</td>\n",
       "      <td>[E00606001774, งาน, 2WD4WD, จะสว่าง, เร็วตํ่า]</td>\n",
       "    </tr>\n",
       "  </tbody>\n",
       "</table>\n",
       "</div>"
      ],
      "text/plain": [
       "                                            questions  \\\n",
       "90  ต้องทำอย่างไรเมื่อความเร็วรถลดลงต่ำกว่าประมาณ ...   \n",
       "91                 ระบบ FCM อาจไม่ทำงานในสภาวะใดบ้าง?   \n",
       "92  ตัวแสดงโหมดการขับเคลื่อน 4 ล้อแสดงสถานะการเปลี...   \n",
       "\n",
       "                                               answer  doc_page  \\\n",
       "90  เมื่อความเร็วรถลดลงต่ำกว่าประมาณ 30 กม./ชม., ค...       127   \n",
       "91  ระบบ FCM อาจไม่ทำงานในสภาวะดังต่อไปนี้:\\n- รถค...       213   \n",
       "92  ตัวแสดงโหมดการขับเคลื่อน 4 ล้อจะสว่างตามตำแหน่...       180   \n",
       "\n",
       "                                          doc_content          doc_source  \\\n",
       "90  แผงหน้าปัดและอุปกรณ์ควบคุม  5  \\nคันสวิตช์ไฟเล...  docs/Text_PDF_.pdf   \n",
       "91  ○ ระบบ FCM อาจไม่ทํางานหากรถคันหน้ามีลักษณะแคบ...  docs/Text_PDF_.pdf   \n",
       "92  ตัวแสดงโหมดการขับเคลื่อน  4 ล้อและตัวแสดงการทํ...  docs/Text_PDF_.pdf   \n",
       "\n",
       "                                                label  \n",
       "90  [ลดลงตํ่ากว่า, E00536800021, งาน, โปรด, อุปกรณ...  \n",
       "91           [งาน, อาจทํา, ระหว่างรถ, อาจตรวจ, จับรถ]  \n",
       "92     [E00606001774, งาน, 2WD4WD, จะสว่าง, เร็วตํ่า]  "
      ]
     },
     "execution_count": 11,
     "metadata": {},
     "output_type": "execute_result"
    }
   ],
   "source": [
    "# join column\n",
    "\n",
    "df = df.merge(col, how='left', on='questions')\n",
    "\n",
    "df.tail(3)"
   ]
  },
  {
   "cell_type": "code",
   "execution_count": 12,
   "metadata": {},
   "outputs": [],
   "source": [
    "# save\n",
    "\n",
    "df.to_csv(\"rerank_dataset.csv\")"
   ]
  }
 ],
 "metadata": {
  "kernelspec": {
   "display_name": "Python 3",
   "language": "python",
   "name": "python3"
  },
  "language_info": {
   "codemirror_mode": {
    "name": "ipython",
    "version": 3
   },
   "file_extension": ".py",
   "mimetype": "text/x-python",
   "name": "python",
   "nbconvert_exporter": "python",
   "pygments_lexer": "ipython3",
   "version": "3.10.9"
  }
 },
 "nbformat": 4,
 "nbformat_minor": 2
}
